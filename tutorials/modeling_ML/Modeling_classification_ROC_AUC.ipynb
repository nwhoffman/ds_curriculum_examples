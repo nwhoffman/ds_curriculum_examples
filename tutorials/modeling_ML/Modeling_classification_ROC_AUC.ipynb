{
 "cells": [
  {
   "cell_type": "markdown",
   "metadata": {},
   "source": [
    "## Overview\n",
    "\n",
    "In the previous objective, we examined the probability threshold a classifier uses when determining to which class an observation belongs. We can extend this concept and look at something called the *receiver operating characteristic*, which is usually plotted as a curve and called the ROC curve.\n",
    "\n",
    "First, we'll go back to the idea of calculating true positives and true negatives and look at a different measurement: the true positive rate (tpr) and the false positive rate (FPR).\n",
    "\n",
    "$$ \\text{TPR} = \\frac{\\text{True Positives}}{\\text{True Positives}+\\text{False Negatives}}$$\n",
    "\n",
    "$$ \\text{FPR} = \\frac{\\text{False Positives}}{\\text{False Positives}+\\text{True Negatives}}$$\n",
    "\n",
    "Both of the above measurements are the just the total true or false positives normalized by the total for each.\n",
    "\n",
    "When we create a ROC curve, we are plotting the TPR against the FPR for a range of threshold values. In the next section, we'll use the scikit-learn `roc_curve()` method to do the calculations for us. From the resulting data, we'll create a plot.\n",
    "\n",
    "<p><math display=\"inline\" xmlns=\"http://www.w3.org/1998/Math/MathML\"><semantics><mi></mi><annotation encoding=\"application/x-tex\"></annotation></semantics></math></p>"
   ]
  },
  {
   "cell_type": "markdown",
   "metadata": {},
   "source": [
    "## Follow Along\n",
    "\n",
    "In order to plot a ROC curve, we need some data and a classifier model fit to that data. Let's use the same data from the previous objective and then create the ROC curve."
   ]
  },
  {
   "cell_type": "code",
   "execution_count": 1,
   "metadata": {},
   "outputs": [],
   "source": [
    "# Load modules\n",
    "import pandas as pd\n",
    "from sklearn.datasets import make_classification\n",
    "from sklearn.linear_model import LogisticRegression\n",
    "from sklearn.model_selection import train_test_split\n",
    "from sklearn.metrics import roc_curve\n",
    "\n",
    "# Create the data (feature, target)\n",
    "X, y = make_classification(n_samples=10000, n_features=5,\n",
    "                          n_classes=2, n_informative=3,\n",
    "                          random_state=42)\n",
    "\n",
    "# Split the data into a training set and a test set\n",
    "X_train, X_test, y_train, y_test = train_test_split(X, y, random_state=42)\n",
    "\n",
    "# Create and fit the model\n",
    "logreg_classifier = LogisticRegression().fit(X_train, y_train)\n",
    "\n",
    "# Create predicted probabilities\n",
    "y_pred_prob = logreg_classifier.predict_proba(X_test)[:,1]"
   ]
  },
  {
   "cell_type": "code",
   "execution_count": 2,
   "metadata": {},
   "outputs": [
    {
     "data": {
      "text/html": [
       "<div>\n",
       "<style scoped>\n",
       "    .dataframe tbody tr th:only-of-type {\n",
       "        vertical-align: middle;\n",
       "    }\n",
       "\n",
       "    .dataframe tbody tr th {\n",
       "        vertical-align: top;\n",
       "    }\n",
       "\n",
       "    .dataframe thead th {\n",
       "        text-align: right;\n",
       "    }\n",
       "</style>\n",
       "<table border=\"1\" class=\"dataframe\">\n",
       "  <thead>\n",
       "    <tr style=\"text-align: right;\">\n",
       "      <th></th>\n",
       "      <th>False Positive Rate</th>\n",
       "      <th>True Positive Rate</th>\n",
       "      <th>Threshold</th>\n",
       "    </tr>\n",
       "  </thead>\n",
       "  <tbody>\n",
       "    <tr>\n",
       "      <th>0</th>\n",
       "      <td>0.000000</td>\n",
       "      <td>0.000000</td>\n",
       "      <td>1.999969</td>\n",
       "    </tr>\n",
       "    <tr>\n",
       "      <th>1</th>\n",
       "      <td>0.000000</td>\n",
       "      <td>0.000786</td>\n",
       "      <td>0.999969</td>\n",
       "    </tr>\n",
       "    <tr>\n",
       "      <th>2</th>\n",
       "      <td>0.000000</td>\n",
       "      <td>0.291438</td>\n",
       "      <td>0.983222</td>\n",
       "    </tr>\n",
       "    <tr>\n",
       "      <th>3</th>\n",
       "      <td>0.000815</td>\n",
       "      <td>0.291438</td>\n",
       "      <td>0.983049</td>\n",
       "    </tr>\n",
       "    <tr>\n",
       "      <th>4</th>\n",
       "      <td>0.000815</td>\n",
       "      <td>0.360566</td>\n",
       "      <td>0.970583</td>\n",
       "    </tr>\n",
       "  </tbody>\n",
       "</table>\n",
       "</div>"
      ],
      "text/plain": [
       "   False Positive Rate  True Positive Rate  Threshold\n",
       "0             0.000000            0.000000   1.999969\n",
       "1             0.000000            0.000786   0.999969\n",
       "2             0.000000            0.291438   0.983222\n",
       "3             0.000815            0.291438   0.983049\n",
       "4             0.000815            0.360566   0.970583"
      ]
     },
     "execution_count": 2,
     "metadata": {},
     "output_type": "execute_result"
    }
   ],
   "source": [
    "# Create the data for the ROC curve\n",
    "fpr, tpr, thresholds = roc_curve(y_test, y_pred_prob)\n",
    "\n",
    "# See the results in a table\n",
    "roccurve_df = pd.DataFrame({\n",
    "    'False Positive Rate': fpr, \n",
    "    'True Positive Rate': tpr, \n",
    "    'Threshold': thresholds\n",
    "})\n",
    "\n",
    "roccurve_df.head()"
   ]
  },
  {
   "cell_type": "code",
   "execution_count": 3,
   "metadata": {},
   "outputs": [
    {
     "data": {
      "text/plain": [
       "<Figure size 432x288 with 0 Axes>"
      ]
     },
     "metadata": {},
     "output_type": "display_data"
    }
   ],
   "source": [
    "# Plot the ROC curve\n",
    "import matplotlib.pyplot as plt\n",
    "\n",
    "plt.plot(fpr, tpr)\n",
    "plt.plot([0,1], ls='--')\n",
    "plt.title('ROC curve')\n",
    "plt.xlabel('False Positive Rate')\n",
    "plt.ylabel('True Positive Rate')\n",
    "\n",
    "plt.clf()"
   ]
  },
  {
   "cell_type": "markdown",
   "metadata": {},
   "source": [
    "![mod4_obj4_ROC.png](https://raw.githubusercontent.com/LambdaSchool/data-science-canvas-images/main/unit_2/sprint_2/mod4_obj4_ROC.png)\n",
    "\n",
    "The above model looks pretty good. In general, the better a model is, the higher the curve and the greater the area under the curve (call AUC). The maximum value for the AUC is equal to one. While we can \"eyeball\" the area in our curve, there is also a tool used to calculate the AUC."
   ]
  },
  {
   "cell_type": "code",
   "execution_count": 4,
   "metadata": {},
   "outputs": [
    {
     "data": {
      "text/plain": [
       "0.9419681927513379"
      ]
     },
     "execution_count": 4,
     "metadata": {},
     "output_type": "execute_result"
    }
   ],
   "source": [
    "# Calculate the area under the curve\n",
    "from sklearn.metrics import roc_auc_score\n",
    "roc_auc_score(y_test, y_pred_prob)"
   ]
  },
  {
   "cell_type": "markdown",
   "metadata": {},
   "source": [
    "## Challenge\n",
    "\n",
    "Using a different data set for classification, see if you can construct the ROC curve. Or with the same data set generated above, try using a different classifier, such as a decision tree, and plot the ROC curve and calculate the AUC. Which model performs better?"
   ]
  },
  {
   "cell_type": "markdown",
   "metadata": {},
   "source": [
    "## Additional Resources\n",
    "\n",
    "* [Scikit-learn Guide: ROC](https://scikit-learn.org/stable/modules/model_evaluation.html#receiver-operating-characterist)\n",
    "* [Scikit-learn: ROC Curve](https://scikit-learn.org/stable/modules/generated/sklearn.metrics.roc_curve.html)\n",
    "* [Scikit-learn: ROC AUC Score](https://scikit-learn.org/stable/modules/generated/sklearn.metrics.roc_auc_score.html)"
   ]
  }
 ],
 "metadata": {
  "kernelspec": {
   "display_name": "Python 3",
   "language": "python",
   "name": "python3"
  },
  "language_info": {
   "codemirror_mode": {
    "name": "ipython",
    "version": 3
   },
   "file_extension": ".py",
   "mimetype": "text/x-python",
   "name": "python",
   "nbconvert_exporter": "python",
   "pygments_lexer": "ipython3",
   "version": "3.8.9"
  }
 },
 "nbformat": 4,
 "nbformat_minor": 4
}
