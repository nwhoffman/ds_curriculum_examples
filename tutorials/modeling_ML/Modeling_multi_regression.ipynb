{
 "cells": [
  {
   "cell_type": "markdown",
   "metadata": {},
   "source": [
    "## Overview\n",
    "\n",
    "In the previous module, we fit a linear regression model to two variables in our car crash data set: total accidents and alcohol impairment. We found that there was a significant relationship between the two variables, and could reject the null hypothesis.\n",
    "\n",
    "In this module, we're going to look at how adding multiple predictor variables to a linear regression affects the outcome. Can we improve the linear regression model by adding in more predictor variables? Let's load in the data, fit the model, and look at the results."
   ]
  },
  {
   "cell_type": "markdown",
   "metadata": {},
   "source": [
    "## Follow Along\n",
    "\n",
    "For this module, we'll look at the whole data set again, instead of just focusing on two variables."
   ]
  },
  {
   "cell_type": "code",
   "execution_count": 1,
   "metadata": {},
   "outputs": [
    {
     "data": {
      "text/html": [
       "<div>\n",
       "<style scoped>\n",
       "    .dataframe tbody tr th:only-of-type {\n",
       "        vertical-align: middle;\n",
       "    }\n",
       "\n",
       "    .dataframe tbody tr th {\n",
       "        vertical-align: top;\n",
       "    }\n",
       "\n",
       "    .dataframe thead th {\n",
       "        text-align: right;\n",
       "    }\n",
       "</style>\n",
       "<table border=\"1\" class=\"dataframe\">\n",
       "  <thead>\n",
       "    <tr style=\"text-align: right;\">\n",
       "      <th></th>\n",
       "      <th>total</th>\n",
       "      <th>speeding</th>\n",
       "      <th>alcohol</th>\n",
       "      <th>not_distracted</th>\n",
       "      <th>no_previous</th>\n",
       "      <th>ins_premium</th>\n",
       "      <th>ins_losses</th>\n",
       "      <th>abbrev</th>\n",
       "    </tr>\n",
       "  </thead>\n",
       "  <tbody>\n",
       "    <tr>\n",
       "      <th>0</th>\n",
       "      <td>18.8</td>\n",
       "      <td>7.332</td>\n",
       "      <td>5.640</td>\n",
       "      <td>18.048</td>\n",
       "      <td>15.040</td>\n",
       "      <td>784.55</td>\n",
       "      <td>145.08</td>\n",
       "      <td>AL</td>\n",
       "    </tr>\n",
       "    <tr>\n",
       "      <th>1</th>\n",
       "      <td>18.1</td>\n",
       "      <td>7.421</td>\n",
       "      <td>4.525</td>\n",
       "      <td>16.290</td>\n",
       "      <td>17.014</td>\n",
       "      <td>1053.48</td>\n",
       "      <td>133.93</td>\n",
       "      <td>AK</td>\n",
       "    </tr>\n",
       "    <tr>\n",
       "      <th>2</th>\n",
       "      <td>18.6</td>\n",
       "      <td>6.510</td>\n",
       "      <td>5.208</td>\n",
       "      <td>15.624</td>\n",
       "      <td>17.856</td>\n",
       "      <td>899.47</td>\n",
       "      <td>110.35</td>\n",
       "      <td>AZ</td>\n",
       "    </tr>\n",
       "    <tr>\n",
       "      <th>3</th>\n",
       "      <td>22.4</td>\n",
       "      <td>4.032</td>\n",
       "      <td>5.824</td>\n",
       "      <td>21.056</td>\n",
       "      <td>21.280</td>\n",
       "      <td>827.34</td>\n",
       "      <td>142.39</td>\n",
       "      <td>AR</td>\n",
       "    </tr>\n",
       "    <tr>\n",
       "      <th>4</th>\n",
       "      <td>12.0</td>\n",
       "      <td>4.200</td>\n",
       "      <td>3.360</td>\n",
       "      <td>10.920</td>\n",
       "      <td>10.680</td>\n",
       "      <td>878.41</td>\n",
       "      <td>165.63</td>\n",
       "      <td>CA</td>\n",
       "    </tr>\n",
       "  </tbody>\n",
       "</table>\n",
       "</div>"
      ],
      "text/plain": [
       "   total  speeding  alcohol  not_distracted  no_previous  ins_premium  \\\n",
       "0   18.8     7.332    5.640          18.048       15.040       784.55   \n",
       "1   18.1     7.421    4.525          16.290       17.014      1053.48   \n",
       "2   18.6     6.510    5.208          15.624       17.856       899.47   \n",
       "3   22.4     4.032    5.824          21.056       21.280       827.34   \n",
       "4   12.0     4.200    3.360          10.920       10.680       878.41   \n",
       "\n",
       "   ins_losses abbrev  \n",
       "0      145.08     AL  \n",
       "1      133.93     AK  \n",
       "2      110.35     AZ  \n",
       "3      142.39     AR  \n",
       "4      165.63     CA  "
      ]
     },
     "execution_count": 1,
     "metadata": {},
     "output_type": "execute_result"
    }
   ],
   "source": [
    "import pandas as pd\n",
    "import seaborn as sns\n",
    "\n",
    "# Load the car crash dataset\n",
    "crashes = sns.load_dataset(\"car_crashes\")\n",
    "\n",
    "crashes.head()"
   ]
  },
  {
   "cell_type": "markdown",
   "metadata": {},
   "source": [
    "We'll fit our model using `alcohol` as the independent variable and `total` as the dependent variable. "
   ]
  },
  {
   "cell_type": "code",
   "execution_count": 2,
   "metadata": {},
   "outputs": [
    {
     "name": "stdout",
     "output_type": "stream",
     "text": [
      "                            OLS Regression Results                            \n",
      "==============================================================================\n",
      "Dep. Variable:                  total   R-squared:                       0.727\n",
      "Model:                            OLS   Adj. R-squared:                  0.721\n",
      "Method:                 Least Squares   F-statistic:                     130.5\n",
      "Date:                Wed, 21 Apr 2021   Prob (F-statistic):           2.04e-15\n",
      "Time:                        13:48:00   Log-Likelihood:                -110.99\n",
      "No. Observations:                  51   AIC:                             226.0\n",
      "Df Residuals:                      49   BIC:                             229.8\n",
      "Df Model:                           1                                         \n",
      "Covariance Type:            nonrobust                                         \n",
      "==============================================================================\n",
      "                 coef    std err          t      P>|t|      [0.025      0.975]\n",
      "------------------------------------------------------------------------------\n",
      "Intercept      5.8578      0.921      6.357      0.000       4.006       7.709\n",
      "alcohol        2.0325      0.178     11.422      0.000       1.675       2.390\n",
      "==============================================================================\n",
      "Omnibus:                        1.922   Durbin-Watson:                   1.776\n",
      "Prob(Omnibus):                  0.382   Jarque-Bera (JB):                1.705\n",
      "Skew:                           0.439   Prob(JB):                        0.426\n",
      "Kurtosis:                       2.824   Cond. No.                         16.2\n",
      "==============================================================================\n",
      "\n",
      "Notes:\n",
      "[1] Standard Errors assume that the covariance matrix of the errors is correctly specified.\n"
     ]
    }
   ],
   "source": [
    "# Import the OLS model from statsmodels\n",
    "from statsmodels.formula.api import ols\n",
    "\n",
    "# Set-up and fit the model in one step\n",
    "# (format Y ~ X)\n",
    "model = ols('total ~ alcohol', data=crashes).fit()\n",
    "\n",
    "# Print the model summary\n",
    "print(model.summary())"
   ]
  },
  {
   "cell_type": "markdown",
   "metadata": {},
   "source": [
    "### R-squared\n",
    "\n",
    "Now we're going to look at a new result in our model summary: *R-squared*. This term is a statistical measure that represents the proportion of the variance for a dependent variable that's explained by an independent variable (or variables) in a regression model. For our data, the R-squared value is the proportion of the variance for our variable `total` that is explained by our independent variable `alcohol`. \n",
    "\n",
    "Reading from the table, we have a R-squared value of 0.727 or 73% (this value is a proportion so we can express it as a percent). So 73% of the variance in total accidents is explained by alcohol impairment, but what about the other 27%? Looking at the data we loaded, we can see there are other variables including `speeding`, `not_distracted`, `ins_premiums`. Let's add in one of these other variables and see how they impact the model and R-squared.\n",
    "\n",
    "### Multiple Linear Regression\n",
    "\n",
    "For a single variable linear regression the equation was:\n",
    "\n",
    "Single variable regresssion model: $$ y = \\beta_0 + \\beta_1x $$\n",
    "\n",
    "To add in other variables, we add additional terms:\n",
    "\n",
    "Multiple variable regresssion model: $$ y = \\beta_0 + \\beta_1x + \\beta_2x + \\beta_3x +...$$\n",
    "\n",
    "Let's look at a scatter plot where we visualize another variable. For this data, it makes sense to also look at the `ins_premium` variable which is the amount that drives paid in their car insurance premium. If a driver has a lot of accidents, we would expect an increase in insurance premiums."
   ]
  },
  {
   "cell_type": "code",
   "execution_count": 3,
   "metadata": {},
   "outputs": [
    {
     "data": {
      "text/plain": [
       "<Figure size 1008x432 with 0 Axes>"
      ]
     },
     "metadata": {},
     "output_type": "display_data"
    }
   ],
   "source": [
    "import matplotlib.pyplot as plt\n",
    "\n",
    "fig, [ax1, ax2] = plt.subplots(1, 2, figsize=(14,6))\n",
    "\n",
    "# Compare the two independent variables to each other - are they related?\n",
    "sns.scatterplot(x='alcohol', y='ins_premium', data=crashes, s=50, ax=ax1)\n",
    "# The color no represents the percentage of speeding drivers\n",
    "sns.scatterplot(x='alcohol', y='total', hue='ins_premium', data=crashes, s=50, palette='magma', ax=ax2);\n",
    "\n",
    "#plt.show()\n",
    "plt.clf()"
   ]
  },
  {
   "cell_type": "markdown",
   "metadata": {},
   "source": [
    "![mod3_obj1_2vars_new.png](https://raw.githubusercontent.com/LambdaSchool/data-science-canvas-images/main/unit_1/sprint_3/new/mod3_obj1_2vars_new.png)\n",
    "\n",
    "In the plot on the left, we can see that there really isn't much of a relationship between our two independent variables: alcohol impairment and insurance premiums don't really seem to have a strong correlation. On the plot on the right, we have our independent variable (`alcohol`) on the x-axis and the dependent variable (`total`) on the y-axis. We've chosen to plot the insurance premium variable (`ins_premium`) on the same axes but color-coded so we can visualize any correlations.\n",
    "\n",
    "Here's what the equation would look like with an additional variable:\n",
    "\n",
    "$$ y = \\beta_0 + \\beta_1*\\text{alcohol} + \\beta_2*\\text{ins_premium} $$\n",
    "\n",
    "Now, let's fit the model with two independent variables."
   ]
  },
  {
   "cell_type": "code",
   "execution_count": 4,
   "metadata": {},
   "outputs": [
    {
     "name": "stdout",
     "output_type": "stream",
     "text": [
      "                            OLS Regression Results                            \n",
      "==============================================================================\n",
      "Dep. Variable:                  total   R-squared:                       0.730\n",
      "Model:                            OLS   Adj. R-squared:                  0.719\n",
      "Method:                 Least Squares   F-statistic:                     64.87\n",
      "Date:                Wed, 21 Apr 2021   Prob (F-statistic):           2.27e-14\n",
      "Time:                        13:48:00   Log-Likelihood:                -110.71\n",
      "No. Observations:                  51   AIC:                             227.4\n",
      "Df Residuals:                      48   BIC:                             233.2\n",
      "Df Model:                           2                                         \n",
      "Covariance Type:            nonrobust                                         \n",
      "==============================================================================\n",
      "                 coef    std err          t      P>|t|      [0.025      0.975]\n",
      "------------------------------------------------------------------------------\n",
      "Intercept      5.6807      0.957      5.934      0.000       3.756       7.606\n",
      "alcohol        1.9152      0.241      7.954      0.000       1.431       2.399\n",
      "speeding       0.1502      0.206      0.728      0.470      -0.265       0.565\n",
      "==============================================================================\n",
      "Omnibus:                        2.495   Durbin-Watson:                   1.809\n",
      "Prob(Omnibus):                  0.287   Jarque-Bera (JB):                2.045\n",
      "Skew:                           0.490   Prob(JB):                        0.360\n",
      "Kurtosis:                       2.978   Cond. No.                         23.5\n",
      "==============================================================================\n",
      "\n",
      "Notes:\n",
      "[1] Standard Errors assume that the covariance matrix of the errors is correctly specified.\n"
     ]
    }
   ],
   "source": [
    "# Set-up and fit the model in one step\n",
    "# (format Y ~ X1 + X2)\n",
    "model = ols('total ~ alcohol + speeding', data=crashes).fit()\n",
    "\n",
    "# Print the model summary\n",
    "print(model.summary())"
   ]
  },
  {
   "cell_type": "markdown",
   "metadata": {},
   "source": [
    "Now that we've added in another variable, we have an additional line in our model for `speeding` which includes the value of the coefficient (remember this is the slope parameter), the standard error, and the t- statistics and p-value.\n",
    "\n",
    "In the next objective, we're going to explore the t-value and p-value for the additional variables in our model."
   ]
  },
  {
   "cell_type": "markdown",
   "metadata": {},
   "source": [
    "## Challenge\n",
    "\n",
    "There are more variables that could be added to this model! We still haven't explored the `no_previous`, `not_distracted` and `ins_premium` variables. Try adding a different variable in place of `speeding` and then look at the R-squared value. How does it change? In the next objective in this module, we'll look more closely at the p-value"
   ]
  },
  {
   "cell_type": "markdown",
   "metadata": {},
   "source": [
    "## Additional Resources\n",
    "\n",
    "* [Kaggle: Bad drivers dataset](https://www.kaggle.com/fivethirtyeight/fivethirtyeight-bad-drivers-dataset?select=README.md)"
   ]
  }
 ],
 "metadata": {
  "kernelspec": {
   "display_name": "Python 3",
   "language": "python",
   "name": "python3"
  },
  "language_info": {
   "codemirror_mode": {
    "name": "ipython",
    "version": 3
   },
   "file_extension": ".py",
   "mimetype": "text/x-python",
   "name": "python",
   "nbconvert_exporter": "python",
   "pygments_lexer": "ipython3",
   "version": "3.8.9"
  }
 },
 "nbformat": 4,
 "nbformat_minor": 2
}
