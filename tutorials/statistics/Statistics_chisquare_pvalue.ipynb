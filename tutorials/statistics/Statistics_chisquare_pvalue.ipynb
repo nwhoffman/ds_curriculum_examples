{
 "cells": [
  {
   "cell_type": "markdown",
   "metadata": {},
   "source": [
    "## Overview\n",
    "\n",
    "We've already covered what a p-value is and how we apply it to a null and alternative hypothesis. But let's go over a quick review.\n",
    "\n",
    "When we perform a hypothesis test, we calculate a p-value. Using the significance level we decided on before performing our test, we then have enough information to either 1) reject or 2) fail to reject the null hypothesis.\n",
    "\n",
    "* 1) p-value < alpha: reject the null hypothesis\n",
    "* 2) p-value > alpha: fail to reject the null hypothesis\n",
    "\n",
    "### Example: Dice Roll\n",
    "\n",
    "We can use a chi-square test on a collection of dice rolls to determine if the dice are fair or to determine if the random number generator we are using is actually random (well, as far as we can detect).\n",
    "\n",
    "Using dice roll statistics as our data set, we're going to work through the whole process of stating the null hypothesis, performing a chi-square test, deciding on the significance level, determining the p-value, and then making a decision on the null hypothesis."
   ]
  },
  {
   "cell_type": "markdown",
   "metadata": {},
   "source": [
    "## Follow Along\n",
    "\n",
    "We already know the expected value of each number when we roll a dice. For a six-sided die, each number should occur 1/6 or about 16.67% of the time. But, we can estimate the expected frequency for each value by using a random number generator.\n",
    "\n",
    "Let's decide on the null hypothesis and the significance level. \n",
    "\n",
    "### Null Hypothesis\n",
    "\n",
    "For this situation, it would make sense to choose the null hypothesis to be simply be \"the dice are not fair\".\n",
    "\n",
    "### Generated Dice Rolls\n",
    "\n",
    "We used the random number generator in Python to simulate the dice rolling results. We \"rolled\" five dice each a total of 50 times. Here are the results, along with the total for each value between 1-6.\n",
    "\n",
    "|     | A | B | C | D | E | tot | \n",
    "|-----|---|---|---|---|---|-----|\n",
    "|1    |13 | 7 |10 | 5 |13 | 48  |\n",
    "|2    |5  |7  |4  |12 |9  | 37  |\n",
    "|3    |5  |9  |14 |0  |10 | 38  |\n",
    "|4    |12 |13 |8  |7  |7  | 47  |\n",
    "|5    |7  |10 |9  |13 |6  | 45  |\n",
    "|6    |8  |4  |5  |13 |5  | 35  |\n",
    "\n",
    "Each value should come up 1/6 of the time; the total number of rolls is 250 and 250/6=41.67. We can see that the results are pretty close to that number for most of the values except for one (a little high) and six (a little low). \n",
    "\n",
    "Let's put the data in NumPy arrays and run a chi-square test on them."
   ]
  },
  {
   "cell_type": "code",
   "execution_count": 1,
   "metadata": {},
   "outputs": [],
   "source": [
    "import numpy as np\n",
    "\n",
    "# Create the array for each die value\n",
    "a1 = [13, 7, 10, 5, 13]\n",
    "a2 = [5, 7, 4, 12, 9]\n",
    "a3 = [5, 9, 14, 0, 10]\n",
    "a4 = [12, 13, 8, 7, 7]\n",
    "a5 = [7, 10, 9, 13, 6]\n",
    "a6 = [8, 4, 5, 13, 5]\n",
    "\n",
    "# Combine them into a (6,5) array\n",
    "dice = np.array([a1, a2, a3, a4, a5, a6])"
   ]
  },
  {
   "cell_type": "code",
   "execution_count": 2,
   "metadata": {},
   "outputs": [
    {
     "name": "stdout",
     "output_type": "stream",
     "text": [
      "Expected values: \n",
      "  [[9.6 9.6 9.6 9.6 9.6]\n",
      " [7.4 7.4 7.4 7.4 7.4]\n",
      " [7.6 7.6 7.6 7.6 7.6]\n",
      " [9.4 9.4 9.4 9.4 9.4]\n",
      " [9.  9.  9.  9.  9. ]\n",
      " [7.  7.  7.  7.  7. ]]\n",
      "The degrees of freedom:  20\n",
      "The chi square statistics is: 40.375\n",
      "The p value is: 0.004477\n"
     ]
    }
   ],
   "source": [
    "# Import the stats module\n",
    "from scipy.stats import chi2_contingency\n",
    "\n",
    "# Perform the chi-square test\n",
    "stat, p, dof, expected = chi2_contingency(dice, correction=False)\n",
    "\n",
    "# Print out the stats in a nice format\n",
    "print('Expected values: \\n ', expected.round(2))\n",
    "print('The degrees of freedom: ', dof)\n",
    "print(f'The chi square statistics is: {stat:.3f}')\n",
    "print(f'The p value is: {p:.6f}')"
   ]
  },
  {
   "cell_type": "markdown",
   "metadata": {},
   "source": [
    "### Interpret the result - computer generated\n",
    "\n",
    "Now we need to use the [Table: Chi-Square Probabilities](https://people.richland.edu/james/lecture/m170/tbl-chi.html) and a significance level to interpret our result. Let's choose an alpha level of 0.005. Our calculated chi-square of 40.375 is greater than 39.997 so we can conclude our results are random and that the computer is not making use of a \"rigged\" die.\n",
    "\n",
    "We can also use the calculated p-value of 0.00447 which is less than 0.005 and come to the same conclusion."
   ]
  },
  {
   "cell_type": "markdown",
   "metadata": {},
   "source": [
    "### Physical Dice\n",
    "\n",
    "Let's look at the rolls from a random assortment of actual, physical dice. We set up the number of rolls and dice in the same way as for the random number generator. Here are the results of five dice being rolled 50 times each.\n",
    "\n",
    "|     | A | B | C | D | E | tot | \n",
    "|-----|---|---|---|---|---|-----|\n",
    "|1    |4  | 3 |5  |11 |4  | 27  |\n",
    "|2    |9  |15 |10 |4  |11 | 46  |\n",
    "|3    |7  |10 |8  |6  |8  | 38  |\n",
    "|4    |13 |6  |8  |9  |12 | 46  |\n",
    "|5    |9  |9  |7  |11 |6  | 39  |\n",
    "|6    |8  |7  |12 |9  |9  | 43  |"
   ]
  },
  {
   "cell_type": "code",
   "execution_count": 3,
   "metadata": {},
   "outputs": [],
   "source": [
    "# Create the array for each die value\n",
    "a1 = [4, 3, 5, 11, 4]\n",
    "a2 = [9, 15, 10, 4, 11]\n",
    "a3 = [7, 10, 8, 6, 8 ]\n",
    "a4 = [13, 6, 8, 9, 12]\n",
    "a5 = [9, 9, 7, 11, 6]\n",
    "a6 = [8, 7, 12, 9, 9]\n",
    "\n",
    "# Combine them into a (6,5) array\n",
    "dice = np.array([a1, a2, a3, a4, a5, a6])"
   ]
  },
  {
   "cell_type": "code",
   "execution_count": 4,
   "metadata": {},
   "outputs": [
    {
     "name": "stdout",
     "output_type": "stream",
     "text": [
      "Expected values: \n",
      "  [[5.4 5.4 5.4 5.4 5.4]\n",
      " [9.8 9.8 9.8 9.8 9.8]\n",
      " [7.8 7.8 7.8 7.8 7.8]\n",
      " [9.6 9.6 9.6 9.6 9.6]\n",
      " [8.4 8.4 8.4 8.4 8.4]\n",
      " [9.  9.  9.  9.  9. ]]\n",
      "The chi square statistics is: 21.989\n",
      "The p value is: 0.341086\n"
     ]
    }
   ],
   "source": [
    "# Perform the chi-square test\n",
    "stat, p, dof, expected = chi2_contingency(dice, correction=False)\n",
    "\n",
    "# Print out the stats in a nice format\n",
    "print('Expected values: \\n ', expected.round(2))\n",
    "print(f'The chi square statistics is: {stat:.3f}')\n",
    "print(f'The p value is: {p:.6f}')"
   ]
  },
  {
   "cell_type": "markdown",
   "metadata": {},
   "source": [
    "### Interpret the result - human generated\n",
    "\n",
    "Again, we'll use the table([Table: Chi-Square Probabilities](https://people.richland.edu/james/lecture/m170/tbl-chi.html)) and a significance level to interpret our result. For this trial, we'll use an alpha level of 0.01. Our calculated chi-square of 21.989 is less than than 37.566. As with the example above, we can also use the calculated p-value. In this case, our p-value of 0.34 is greater than our alpha of 0.01, so we can't reject the null hypothesis.\n",
    "\n",
    "We can conclude our results are not what we would expect if the dice were fair. In this case, there might be some human error introduced in rolling the dice. And possible the dice themselves not being perfectly fair."
   ]
  },
  {
   "cell_type": "markdown",
   "metadata": {},
   "source": [
    "## Challenge\n",
    "\n",
    "This might be an opportunity to generate your own dice-rolling data and see how your results compare to the computer generated ones. You can use fewer dice (and roll more than one at a time) to collect your sample. Once you have some data, construct a contigency table and calculate your chi-square statistic. Then compare your results using your preferred significance level. Are your dice fair?"
   ]
  },
  {
   "cell_type": "markdown",
   "metadata": {},
   "source": [
    "## Additional Resources\n",
    "\n",
    "* [Chi-square Test of Independence](https://stattrek.com/chi-square-test/independence.aspx)\n",
    "* [Table: Chi-Square Probabilities](https://people.richland.edu/james/lecture/m170/tbl-chi.html)\n",
    "* [Two-way Tables and the Chi-square Test](http://www.stat.yale.edu/Courses/1997-98/101/chisq.htm)"
   ]
  }
 ],
 "metadata": {
  "kernelspec": {
   "display_name": "Python 3",
   "language": "python",
   "name": "python3"
  },
  "language_info": {
   "codemirror_mode": {
    "name": "ipython",
    "version": 3
   },
   "file_extension": ".py",
   "mimetype": "text/x-python",
   "name": "python",
   "nbconvert_exporter": "python",
   "pygments_lexer": "ipython3",
   "version": "3.8.9"
  }
 },
 "nbformat": 4,
 "nbformat_minor": 2
}
