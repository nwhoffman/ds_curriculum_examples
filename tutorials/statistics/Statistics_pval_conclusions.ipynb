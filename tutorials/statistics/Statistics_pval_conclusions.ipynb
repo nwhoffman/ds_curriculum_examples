{
 "cells": [
  {
   "cell_type": "markdown",
   "metadata": {
    "id": "UZRrlEXzTrgL"
   },
   "source": [
    "## Overview\n",
    "\n",
    "So far we have covered t-tests and how to apply them for one- and two-sample situations. Now we need to move on to hypothesis testing and talk about the *null hypothesis* and the *alternative hypothesis*. We mentioned this earlier in the module but we're going to go over these concepts in more detail.  \n",
    "\n",
    "### Null Hypothesis\n",
    "\n",
    "When we want to determine if a result is statistically significant, we need a standard by which to judge the hypotheses. Let's say we wanted to know if cardiovascular exercise can lower resting heart rate.  \n",
    "\n",
    "We could state our hypothesis as: *The mean resting heart rate in individuals who do cardiovasular exercise is not different from the mean resting heart rate for all US adults (78 beats per minute).*\n",
    "\n",
    "The process of this set of hypotheses might look something like the following:\n",
    "\n",
    "* First we state our null hypothesis: The mean heart rate in individuals who do cardiovascular exercise is not different from the mean heart rate of the rest of the population (78bpm).\n",
    "Second we determine the alternative hypothesis: The mean heart rate in individuals who do cardiovascular exercise is different frm the mean heart rate in the rest of the population (78bpm).\n",
    "* We select a representative sample of individuals who do cardiovascular exercise and calculate the mean and SD heart rate.\n",
    "\n",
    "The null hypothesis is written out symbolically as: \n",
    "\n",
    "\\begin{align}\n",
    "H_{0}: \\mu = \\mathrm{reference} \\; \\mathrm{value}\n",
    "\\end{align}\n",
    "\n",
    "where $\\mu$ is the population mean of all individuals doing cardiovascular exercise.\n",
    "\n",
    "In this specific situation:\n",
    "\n",
    "\\begin{align}\n",
    "H_{0}: \\mu = 78\n",
    "\\end{align}\n",
    "\n",
    "Although we suspect that cardiovascular exercise will lower resting heart rate, it is beter to be \"conservative\" and use a \"not equal to\" alternative hypothesis is: \n",
    "\n",
    "This is written symbolically as: $$H_{a}: \\mu \\neq 78$$\n",
    "\n",
    "\n",
    "### Interpret the p-value\n",
    "\n",
    "Now that we have decided on both the null and alternate hypotheses, we need to decided if we reject or fail to reject the null hypothesis. There is where the p-value finally comes in. The p-value is the probability of observing our sample mean if the null hypothesis is actually true. We'll add to the hypothesis testing process from above:\n",
    "\n",
    "1. Decide on the null and alternative hypotheses.\n",
    "2. Determine the significance level you wish to use.  Often this is 0.05, but it doesn't have to be.\n",
    "3. Calculate the test statistics (in this module, we have focused on the *t* statistic) and the associated p-value.\n",
    "4. Use the p-value and the significance level to determine if you reject or fail to reject the null hypothesis.\n",
    "\n",
    "A note on the significance level: This value is also called the alpha ($\\alpha$)level. If we choose alpha=0.05 or 5%, we would expect to incorrectly reject the null hypothesis 5% of the time. A stricter significance level of alpha=0.01 (1%) would mean that we would only expect to incorrectly reject the null hypothesis 1% of the time. To reject the null hypothesis, the p-value needs to be less than alpha:\n",
    "\n",
    "* p-value < alpha: reject the null hypothesis\n",
    "* p-value > alpha: fail to reject the null hypothesis\n",
    "\n",
    "**We never accept a null hypothesis or prove it to be true, we can only fail to reject it.** \n",
    "\n",
    "In other words, failing to reject the null hypothesis means that we do not have enough evidence to conclude that the null hypothesis is false.\n"
   ]
  },
  {
   "cell_type": "markdown",
   "metadata": {
    "id": "ZUsmFi9JTrgM"
   },
   "source": [
    "## Follow Along\n",
    "\n",
    "We'd like to test if a new method of teaching physics increases understanding as measured by higher scores on a particular physics test.  A random sample of 50 students who have learned using this new method is selected and the mean score on the physics test is determed to be 74.6 with a standard deviation of 12.3. \n",
    "\n",
    "We'd like to compare this to the entire population of physics test scores where the mean is 67.5. \n",
    "\n",
    "The null hypothesis is that the mean tests score for students who learned using the new method is equivalent to the mean test score for the entire population of physics students. We write this symbolically as $$H_{0}: \\mu = 67.5$$\n",
    "\n",
    "To be conservative, we won't automatically believe that the new method improves scores and will instead specify that the alternative hypothesis is that the scores are simply not equal to each other $$H_{a}: \\mu \\neq 67.5$$.\n",
    "\n",
    "\n",
    "\n",
    "### Calculate with SciPy\n",
    "\n",
    "Using the tools available in SciPy, we'll create random test scores for the general student population, with the given mean of 67.5. From this distribution, we'll select 50 scores that have a mean of 74.6 and a standard deviation of 12.3. Using these values, we'll let SciPy calculate the *t* statistic and p-value.\n"
   ]
  },
  {
   "cell_type": "code",
   "execution_count": null,
   "metadata": {
    "id": "qztZbV81TrgN",
    "outputId": "7e6075e0-27b8-40a4-8914-68e477d7bd75"
   },
   "outputs": [
    {
     "data": {
      "text/plain": [
       "Ttest_1sampResult(statistic=2.6640411076902604, pvalue=0.010421324745517498)"
      ]
     },
     "execution_count": 1,
     "metadata": {
      "tags": []
     },
     "output_type": "execute_result"
    }
   ],
   "source": [
    "# Import the stats module\n",
    "from scipy import stats\n",
    "\n",
    "# Here are the 50 scores from the class (they were generated to have the correct mean and SD)\n",
    "Class scores = stats.norm.rvs(loc=74.6, scale=12.3, size=50, random_state=42)\n",
    "\n",
    "# Calculate the t statistic and the p-value\n",
    "stats.ttest_1samp(rvs,67.5)"
   ]
  },
  {
   "cell_type": "markdown",
   "metadata": {
    "id": "dVT4UW6zTrgQ"
   },
   "source": [
    "### Interpret the p-value\n",
    "\n",
    "We have a p-value of 0.0104. Let's compare this to the alpha value: `p-value 0.0104 < 0.05`. This means that we should reject the null hypothesis and conclude that students using the new method to learn physics do have a statistically significantly different mean physics test score compared the the entire population of physics students. "
   ]
  },
  {
   "cell_type": "markdown",
   "metadata": {
    "id": "jMg3amU-TrgR"
   },
   "source": [
    "## Additional Resources\n",
    "\n",
    "* [T-test Using Python and NumPy](https://towardsdatascience.com/inferential-statistics-series-t-test-using-numpy-2718f8f9bf2f)"
   ]
  }
 ],
 "metadata": {
  "colab": {
   "collapsed_sections": [],
   "name": "1.4 Use a t-test p-value to draw a conclusion about the null and alternative hypothesis.ipynb",
   "provenance": []
  },
  "kernelspec": {
   "display_name": "Python 3",
   "language": "python",
   "name": "python3"
  },
  "language_info": {
   "codemirror_mode": {
    "name": "ipython",
    "version": 3
   },
   "file_extension": ".py",
   "mimetype": "text/x-python",
   "name": "python",
   "nbconvert_exporter": "python",
   "pygments_lexer": "ipython3",
   "version": "3.8.9"
  }
 },
 "nbformat": 4,
 "nbformat_minor": 1
}
