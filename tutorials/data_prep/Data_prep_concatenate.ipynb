{
 "cells": [
  {
   "cell_type": "markdown",
   "metadata": {},
   "source": [
    "## Overview\n",
    "\n",
    "Data sets come in all shapes and sizes and sometimes we need to combine them in various ways. This type of data wrangling task is very well suited for pandas. There are several different tools that we can use, from very simple to very complex DataFrame combinations. We'll begin with one of the easiest: concatenation using the pandas method `pd.concat`. \n",
    "\n",
    "Concatenation means to join two things together. For example, with string concatenation, we join two or more strings end-to-end. We'll see that for a structure like a DataFrame, \"end\" has a slightly different meaning. \n",
    "\n",
    "Fun fact: the Unix terminal command `cat` is short for concatenate and is a way to both display files and to join them together.\n",
    "\n",
    "### Introduction to pd.concat()\n",
    "\n",
    "To become more familiar with this method, let's look at the default parameters of `pd.concat()`."
   ]
  },
  {
   "cell_type": "code",
   "execution_count": 1,
   "metadata": {},
   "outputs": [
    {
     "data": {
      "text/plain": [
       "<function pandas.core.reshape.concat.concat(objs, axis=0, join='outer', join_axes=None, ignore_index=False, keys=None, levels=None, names=None, verify_integrity=False, sort=None, copy=True)>"
      ]
     },
     "execution_count": 1,
     "metadata": {},
     "output_type": "execute_result"
    }
   ],
   "source": [
    "# Import libraries\n",
    "import pandas as pd\n",
    "import numpy as np\n",
    "\n",
    "# Display the arguments for pd.concat()\n",
    "pd.concat"
   ]
  },
  {
   "cell_type": "markdown",
   "metadata": {},
   "source": [
    "We can see that there are a number of parameters to use with this method. To start, our use cases will focus on the `axis` and `join` parameters."
   ]
  },
  {
   "cell_type": "markdown",
   "metadata": {},
   "source": [
    "## Follow Along\n",
    "\n",
    "To demonstrate how to combine DataFrames we need to create a few to practice with."
   ]
  },
  {
   "cell_type": "code",
   "execution_count": 2,
   "metadata": {},
   "outputs": [
    {
     "name": "stdout",
     "output_type": "stream",
     "text": [
      "        cat       dog\n",
      "0  0.693574  0.094608\n",
      "1  0.045537  0.449816\n",
      "2  0.077305  0.590424\n",
      "        cat       dog\n",
      "0  0.685117  0.628959\n",
      "1  0.079331  0.955059\n",
      "2  0.530680  0.949267\n"
     ]
    }
   ],
   "source": [
    "# Make DataFrames\n",
    "df1 = pd.DataFrame(np.random.rand(3,2),\n",
    "                  columns = ['cat', 'dog'])\n",
    "df2 = pd.DataFrame(np.random.rand(3,2),\n",
    "                  columns = ['cat', 'dog'])\n",
    "\n",
    "# Print out the DataFrames\n",
    "print(df1); print(df2)"
   ]
  },
  {
   "cell_type": "markdown",
   "metadata": {},
   "source": [
    "### Using `pd.concat`\n",
    "\n",
    "We'll combine them along the row axis (axis=0) which is the default setting for `pd.concat()`."
   ]
  },
  {
   "cell_type": "code",
   "execution_count": 3,
   "metadata": {},
   "outputs": [
    {
     "data": {
      "text/html": [
       "<div>\n",
       "<style scoped>\n",
       "    .dataframe tbody tr th:only-of-type {\n",
       "        vertical-align: middle;\n",
       "    }\n",
       "\n",
       "    .dataframe tbody tr th {\n",
       "        vertical-align: top;\n",
       "    }\n",
       "\n",
       "    .dataframe thead th {\n",
       "        text-align: right;\n",
       "    }\n",
       "</style>\n",
       "<table border=\"1\" class=\"dataframe\">\n",
       "  <thead>\n",
       "    <tr style=\"text-align: right;\">\n",
       "      <th></th>\n",
       "      <th>cat</th>\n",
       "      <th>dog</th>\n",
       "    </tr>\n",
       "  </thead>\n",
       "  <tbody>\n",
       "    <tr>\n",
       "      <td>0</td>\n",
       "      <td>0.693574</td>\n",
       "      <td>0.094608</td>\n",
       "    </tr>\n",
       "    <tr>\n",
       "      <td>1</td>\n",
       "      <td>0.045537</td>\n",
       "      <td>0.449816</td>\n",
       "    </tr>\n",
       "    <tr>\n",
       "      <td>2</td>\n",
       "      <td>0.077305</td>\n",
       "      <td>0.590424</td>\n",
       "    </tr>\n",
       "    <tr>\n",
       "      <td>0</td>\n",
       "      <td>0.685117</td>\n",
       "      <td>0.628959</td>\n",
       "    </tr>\n",
       "    <tr>\n",
       "      <td>1</td>\n",
       "      <td>0.079331</td>\n",
       "      <td>0.955059</td>\n",
       "    </tr>\n",
       "    <tr>\n",
       "      <td>2</td>\n",
       "      <td>0.530680</td>\n",
       "      <td>0.949267</td>\n",
       "    </tr>\n",
       "  </tbody>\n",
       "</table>\n",
       "</div>"
      ],
      "text/plain": [
       "        cat       dog\n",
       "0  0.693574  0.094608\n",
       "1  0.045537  0.449816\n",
       "2  0.077305  0.590424\n",
       "0  0.685117  0.628959\n",
       "1  0.079331  0.955059\n",
       "2  0.530680  0.949267"
      ]
     },
     "execution_count": 3,
     "metadata": {},
     "output_type": "execute_result"
    }
   ],
   "source": [
    "# Concatenate along the row axis\n",
    "pd.concat([df1, df2])"
   ]
  },
  {
   "cell_type": "markdown",
   "metadata": {},
   "source": [
    "We can see that the concatenation preserves the indexes, so we now have some that repeat. One way to avoid this is to set the parameter `ignore_index=True`.\n",
    "\n",
    "Say we have another DataFrame and we would like to concatenate them along the *column axis*. We need to set the argument `axis=1` to do this. To test this out, we'll create a DataFrame with different column names, combine them, and view the results."
   ]
  },
  {
   "cell_type": "code",
   "execution_count": 4,
   "metadata": {},
   "outputs": [
    {
     "data": {
      "text/html": [
       "<div>\n",
       "<style scoped>\n",
       "    .dataframe tbody tr th:only-of-type {\n",
       "        vertical-align: middle;\n",
       "    }\n",
       "\n",
       "    .dataframe tbody tr th {\n",
       "        vertical-align: top;\n",
       "    }\n",
       "\n",
       "    .dataframe thead th {\n",
       "        text-align: right;\n",
       "    }\n",
       "</style>\n",
       "<table border=\"1\" class=\"dataframe\">\n",
       "  <thead>\n",
       "    <tr style=\"text-align: right;\">\n",
       "      <th></th>\n",
       "      <th>cat</th>\n",
       "      <th>dog</th>\n",
       "      <th>bird</th>\n",
       "      <th>horse</th>\n",
       "    </tr>\n",
       "  </thead>\n",
       "  <tbody>\n",
       "    <tr>\n",
       "      <td>0</td>\n",
       "      <td>0.693574</td>\n",
       "      <td>0.094608</td>\n",
       "      <td>0.818225</td>\n",
       "      <td>0.971892</td>\n",
       "    </tr>\n",
       "    <tr>\n",
       "      <td>1</td>\n",
       "      <td>0.045537</td>\n",
       "      <td>0.449816</td>\n",
       "      <td>0.306902</td>\n",
       "      <td>0.428235</td>\n",
       "    </tr>\n",
       "    <tr>\n",
       "      <td>2</td>\n",
       "      <td>0.077305</td>\n",
       "      <td>0.590424</td>\n",
       "      <td>0.929212</td>\n",
       "      <td>0.186076</td>\n",
       "    </tr>\n",
       "  </tbody>\n",
       "</table>\n",
       "</div>"
      ],
      "text/plain": [
       "        cat       dog      bird     horse\n",
       "0  0.693574  0.094608  0.818225  0.971892\n",
       "1  0.045537  0.449816  0.306902  0.428235\n",
       "2  0.077305  0.590424  0.929212  0.186076"
      ]
     },
     "execution_count": 4,
     "metadata": {},
     "output_type": "execute_result"
    }
   ],
   "source": [
    "# Create the new DataFrame\n",
    "df3 = pd.DataFrame(np.random.rand(3,2),\n",
    "                  columns = ['bird', 'horse'])\n",
    "\n",
    "# Concatenate it with one of the previous examples\n",
    "pd.concat([df1, df3], axis=1)"
   ]
  },
  {
   "cell_type": "markdown",
   "metadata": {},
   "source": [
    "In the above examples, `df1` and `df2` have the same column names; it was easy to combine them. What do we do if we don't have any *column names* in common but still want to combine the DataFrames? There are additional arguments that we can pass to `pd.concat`.\n",
    "\n",
    "Using the `join` argument we can combine two DataFrames with overlapping columns. The default value of `join` is `outer` which is a union of all of the columns. Let's create a few more DataFrames to practice with."
   ]
  },
  {
   "cell_type": "code",
   "execution_count": 5,
   "metadata": {},
   "outputs": [
    {
     "name": "stdout",
     "output_type": "stream",
     "text": [
      "  Alpaca Bird Camel\n",
      "0     A1   B1    C1\n",
      "1     A2   B2    C2\n",
      "2     A3   B3    C3\n",
      "  Bird Camel Duck\n",
      "3   B3    C3   D3\n",
      "4   B4    C4   D4\n",
      "5   B5    C5   D5\n",
      "  Alpaca Bird Camel Duck\n",
      "0     A1   B1    C1  NaN\n",
      "1     A2   B2    C2  NaN\n",
      "2     A3   B3    C3  NaN\n",
      "3    NaN   B3    C3   D3\n",
      "4    NaN   B4    C4   D4\n",
      "5    NaN   B5    C5   D5\n"
     ]
    }
   ],
   "source": [
    "# Create the DataFrames\n",
    "\n",
    "data4 = {'Alpaca':['A1', 'A2', 'A3'], 'Bird':['B1', 'B2', 'B3'],\n",
    "        'Camel':['C1', 'C2', 'C3']} \n",
    "df4 = pd.DataFrame(data4)\n",
    "print(df4)\n",
    "\n",
    "data5 = {'Bird':['B3', 'B4', 'B5'], 'Camel':['C3', 'C4', 'C5'],\n",
    "        'Duck':['D3', 'D4', 'D5']} \n",
    "df5 = pd.DataFrame(data5, index=[3,4,5])\n",
    "print(df5)\n",
    "\n",
    "# Concatenate with default join='outer'\n",
    "# (sort=False is used to suppress the warning that\n",
    "# future pandas will no longer sort the rows) \n",
    "print(pd.concat([df4, df5], sort=False))"
   ]
  },
  {
   "cell_type": "markdown",
   "metadata": {},
   "source": [
    "We can see in the above example that the cells where there isn't data available now have `NaN` values. To join only the columns that the two DataFrames have in common, use the `join=inner` argument."
   ]
  },
  {
   "cell_type": "code",
   "execution_count": 6,
   "metadata": {},
   "outputs": [
    {
     "name": "stdout",
     "output_type": "stream",
     "text": [
      "  Bird Camel\n",
      "0   B1    C1\n",
      "1   B2    C2\n",
      "2   B3    C3\n",
      "3   B3    C3\n",
      "4   B4    C4\n",
      "5   B5    C5\n"
     ]
    }
   ],
   "source": [
    "# Concatenate with default join='inner'\n",
    "print(pd.concat([df4, df5], join='inner'))"
   ]
  },
  {
   "cell_type": "markdown",
   "metadata": {},
   "source": [
    "Now the only columns that remain are the ones that the two DataFrames had in common."
   ]
  },
  {
   "cell_type": "markdown",
   "metadata": {},
   "source": [
    "## Challenge\n",
    "\n",
    "Using the same process as above, practice concatenating some DataFrames that you create. You should follow these general steps:\n",
    "\n",
    "* Create DataFrames with either the np.array syntax or by creating a dictionary; create something that is ~10 rows\n",
    "* Concatenate along either the rows or columns, depending on the column names you created; experiment!\n",
    "* Use `pd.concat` with the `join` argument"
   ]
  },
  {
   "cell_type": "markdown",
   "metadata": {},
   "source": [
    "## Additional Resources\n",
    "\n",
    "* [pandas concat](https://pandas.pydata.org/pandas-docs/stable/reference/api/pandas.concat.html)\n",
    "* [Combining Datasets: Concat and Append](https://jakevdp.github.io/PythonDataScienceHandbook/03.06-concat-and-append.html)"
   ]
  }
 ],
 "metadata": {
  "kernelspec": {
   "display_name": "Python 3",
   "language": "python",
   "name": "python3"
  },
  "language_info": {
   "codemirror_mode": {
    "name": "ipython",
    "version": 3
   },
   "file_extension": ".py",
   "mimetype": "text/x-python",
   "name": "python",
   "nbconvert_exporter": "python",
   "pygments_lexer": "ipython3",
   "version": "3.8.9"
  }
 },
 "nbformat": 4,
 "nbformat_minor": 2
}
