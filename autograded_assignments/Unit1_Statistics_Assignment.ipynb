{
 "cells": [
  {
   "cell_type": "markdown",
   "metadata": {
    "id": "838Dmw1kM2LK"
   },
   "source": [
    "# Lambda School Data Science - Unit 1 Sprint 2 Module 1\n",
    "\n",
    "## Hypothesis Testing - One and two-sample t-Tests\n",
    "\n",
    "### Objectives\n",
    "\n",
    "* Explain the purpose of a t-test and identify applications\n",
    "* Use a t-test for independence to test for a statistically significant association between two categorical variables\n",
    "* Use a t-test p-value to draw the correct conclusion about the null and alternative hypothesis\n",
    "\n",
    "#### Total notebook points: 13"
   ]
  },
  {
   "cell_type": "markdown",
   "metadata": {
    "id": "XvoOHjnMR42h"
   },
   "source": [
    "### Introduction\n",
    "\n",
    "Mosquito nets have traditionally been an important tool to prevent mosquito bites in parts of the world where malaria is endemic. However, it may not be practical for an army that is on the move to set up and carry mosquito nets each night and day. Impregnating soldiers’ uniforms with insect repellent solves the mobility problem but also has drawbacks. First, the insect repellent quickly becomes ineffective with repeated washing and ironing and must be frequently reapplied. Second, in hot and humid climates the insect repellent can be absorbed through the skin, and the long-term effects of this exposure are unknown. One compromise is to have soldiers apply patches treated with insect repellent to their clothing. These patches would last longer because they would not be washed or ironed and would not expose the entire body to the insect repellent.\n",
    "\n",
    "### Dataset Description\n",
    "\n",
    "The `Mosquito.xlsx` dataset contains data recorded in an experiment conducted on male soldiers in the Indian Army who were stationed in the Tezpur/Solmara garrison in Northeast India. Thirty soldiers were randomly selected to receive one of three types of mosquito single repellent patch. After giving informed consent, the study participants affixed the patches at predetermined points on their uniforms and research assistants (who were blinded to the type of repellent used) counted the number of times a mosquito landed on each individual in an hour. \n",
    "\n",
    "Medical officers with the Indian Army have recorded data on mosquito bites and related illness for many years and can say with authority that the mean number of mosquito touches for soldiers not wearing any mosquito repellent is 8.2 per hour.**We wish to determine if wearing a single repellent patch changes the mean number of mosquito touches for soldiers compared to not wearing any mosquito repellant.**\n",
    "\n",
    "*Adapted from: A. Bhatnagar and V.K. Mehta (2007). \"Efficacy of Deltamethrin and Cyfluthrin Impregnated Cloth Over Uniform Against Mosquito Bites,\" Medical Journal Armed Forces India, Vol. 63, pp. 120-122.*"
   ]
  },
  {
   "cell_type": "markdown",
   "metadata": {
    "id": "GDZhZik3FQmx"
   },
   "source": [
    "**Task 1** - Load the data\n",
    "\n",
    "Let's load the data! The URL has been provided as well as the imports for pandas and numpy.\n",
    "\n",
    "* load your CSV file into a DataFrame named `df_mosquito`"
   ]
  },
  {
   "cell_type": "code",
   "execution_count": 1,
   "metadata": {
    "colab": {
     "base_uri": "https://localhost:8080/",
     "height": 204
    },
    "id": "-5ubUxGnTn6k",
    "nbgrader": {
     "grade": false,
     "grade_id": "cell-dae3789e00dd9b29",
     "locked": false,
     "schema_version": 3,
     "solution": true,
     "task": false
    },
    "outputId": "1a595008-3bb7-430d-c0ed-1889ba49e124"
   },
   "outputs": [
    {
     "data": {
      "text/html": [
       "<div>\n",
       "<style scoped>\n",
       "    .dataframe tbody tr th:only-of-type {\n",
       "        vertical-align: middle;\n",
       "    }\n",
       "\n",
       "    .dataframe tbody tr th {\n",
       "        vertical-align: top;\n",
       "    }\n",
       "\n",
       "    .dataframe thead th {\n",
       "        text-align: right;\n",
       "    }\n",
       "</style>\n",
       "<table border=\"1\" class=\"dataframe\">\n",
       "  <thead>\n",
       "    <tr style=\"text-align: right;\">\n",
       "      <th></th>\n",
       "      <th>ID</th>\n",
       "      <th>Mosq_count</th>\n",
       "    </tr>\n",
       "  </thead>\n",
       "  <tbody>\n",
       "    <tr>\n",
       "      <th>0</th>\n",
       "      <td>1</td>\n",
       "      <td>4</td>\n",
       "    </tr>\n",
       "    <tr>\n",
       "      <th>1</th>\n",
       "      <td>2</td>\n",
       "      <td>10</td>\n",
       "    </tr>\n",
       "    <tr>\n",
       "      <th>2</th>\n",
       "      <td>3</td>\n",
       "      <td>13</td>\n",
       "    </tr>\n",
       "    <tr>\n",
       "      <th>3</th>\n",
       "      <td>4</td>\n",
       "      <td>0</td>\n",
       "    </tr>\n",
       "    <tr>\n",
       "      <th>4</th>\n",
       "      <td>5</td>\n",
       "      <td>11</td>\n",
       "    </tr>\n",
       "  </tbody>\n",
       "</table>\n",
       "</div>"
      ],
      "text/plain": [
       "   ID  Mosq_count\n",
       "0   1           4\n",
       "1   2          10\n",
       "2   3          13\n",
       "3   4           0\n",
       "4   5          11"
      ]
     },
     "execution_count": 1,
     "metadata": {},
     "output_type": "execute_result"
    }
   ],
   "source": [
    "# Task 1\n",
    "import pandas as pd\n",
    "import numpy as np\n",
    "\n",
    "# URL for the dataset\n",
    "data_url = 'https://raw.githubusercontent.com/LambdaSchool/data-science-practice-datasets/main/unit_1/Mosquito/Mosquito.csv'\n",
    "\n",
    "### BEGIN SOLUTION\n",
    "df_mosquito = pd.read_csv(data_url)\n",
    "### END SOLUTION\n",
    "\n",
    "# Print out your DataFrame\n",
    "df_mosquito.head()"
   ]
  },
  {
   "cell_type": "markdown",
   "metadata": {
    "id": "1RY9e-T_FQmz"
   },
   "source": [
    "**Task 1 Test**"
   ]
  },
  {
   "cell_type": "code",
   "execution_count": 2,
   "metadata": {
    "id": "AOQZ8K_6FQmz",
    "nbgrader": {
     "grade": true,
     "grade_id": "cell-a347d8dd7572e6d4",
     "locked": true,
     "points": 1,
     "schema_version": 3,
     "solution": false,
     "task": false
    }
   },
   "outputs": [],
   "source": [
    "# Task 1 - Test\n",
    "\n",
    "assert isinstance(df_mosquito, pd.DataFrame), 'Have you created a DataFrame named `df_mosquito`?'\n",
    "assert len(df_mosquito) == 90\n",
    "\n",
    "### BEGIN HIDDEN TESTS\n",
    "assert df_mosquito.shape == (90, 2), 'Make sure you correctly read in the DataFrame'\n",
    "### END HIDDEN TESTS"
   ]
  },
  {
   "cell_type": "markdown",
   "metadata": {
    "id": "9cEe4HiqFQm0"
   },
   "source": [
    "**Task 2** - Calculate the mean\n",
    "\n",
    "* Calculate the mean number of mosquito touches in the sample. Assign your answer to the variable `mosquito_touch_mean`."
   ]
  },
  {
   "cell_type": "code",
   "execution_count": 3,
   "metadata": {
    "id": "27r_eZsrFQm0",
    "nbgrader": {
     "grade": false,
     "grade_id": "cell-22ced5cd2cae6230",
     "locked": false,
     "schema_version": 3,
     "solution": true,
     "task": false
    }
   },
   "outputs": [],
   "source": [
    "# Task 2\n",
    "\n",
    "### BEGIN SOLUTION\n",
    "mosquito_touch_mean = df_mosquito['Mosq_count'].mean()\n",
    "### END SOLUTION"
   ]
  },
  {
   "cell_type": "markdown",
   "metadata": {
    "id": "ZSnEfbUbFQm0"
   },
   "source": [
    "**Task 2 Test**"
   ]
  },
  {
   "cell_type": "code",
   "execution_count": 4,
   "metadata": {
    "id": "JcRrAtPEFQm0",
    "nbgrader": {
     "grade": true,
     "grade_id": "cell-3970fbb1a3eaefb5",
     "locked": true,
     "points": 1,
     "schema_version": 3,
     "solution": false,
     "task": false
    }
   },
   "outputs": [],
   "source": [
    "# Task 2 - Test\n",
    "# Hidden tests - you will see the results when you submit to Canvas\n",
    "### BEGIN HIDDEN TESTS\n",
    "assert round(mosquito_touch_mean) == 8, 'Did you use the `.mean()` method?'\n",
    "### END HIDDEN TESTS"
   ]
  },
  {
   "cell_type": "markdown",
   "metadata": {
    "id": "VwfMz7VAFQm1"
   },
   "source": [
    "**Task 3** - Calculate the standard deviation\n",
    "\n",
    "* Calculate the standard deviation of the number of mosquito touches in the sample. Assign your answer to `mosquito_touch_std`."
   ]
  },
  {
   "cell_type": "code",
   "execution_count": 5,
   "metadata": {
    "id": "zTCFeDauFQm1",
    "nbgrader": {
     "grade": false,
     "grade_id": "cell-9c4fe58a9fe2d7aa",
     "locked": false,
     "schema_version": 3,
     "solution": true,
     "task": false
    }
   },
   "outputs": [],
   "source": [
    "# Task 3\n",
    "\n",
    "### BEGIN SOLUTION\n",
    "mosquito_touch_std = df_mosquito['Mosq_count'].std()\n",
    "### END SOLUTION"
   ]
  },
  {
   "cell_type": "markdown",
   "metadata": {
    "id": "7YboOb58FQm1"
   },
   "source": [
    "**Task 3 Test**"
   ]
  },
  {
   "cell_type": "code",
   "execution_count": 6,
   "metadata": {
    "id": "qjWEPFj7FQm1",
    "nbgrader": {
     "grade": true,
     "grade_id": "cell-4939c4289c39b4e3",
     "locked": true,
     "points": 1,
     "schema_version": 3,
     "solution": false,
     "task": false
    }
   },
   "outputs": [],
   "source": [
    "# Task 3 - Test\n",
    "# Hidden tests - you will see the results when you submit to Canvas\n",
    "### BEGIN HIDDEN TESTS\n",
    "assert round(mosquito_touch_std) == 3, 'Did you use the .std() method?'\n",
    "### END HIDDEN TESTS"
   ]
  },
  {
   "cell_type": "markdown",
   "metadata": {
    "id": "jPmpfULFFQmz"
   },
   "source": [
    "**Task 4 -** Statistical hypotheses\n",
    "\n",
    "From the list of choices below, select the null and alternative hypotheses using the experiment information described above.  Specify your answer in the next code block using `Answer = `.  For example, if the correct answer is choice B, you'll type `Answer = 'B'`.\n",
    "\n",
    "A: $H_0: \\mu = 8$ vs. $H_a: \\mu = 8$\n",
    "\n",
    "B: $H_0: \\mu \\neq 8.2$ vs. $H_a: \\mu = 8$\n",
    "\n",
    "C: $H_0: \\mu \\neq 8.2$ vs. $H_a: \\mu = 8.2$ \n",
    "\n",
    "D: $H_0: \\mu =8.2$ vs. $H_a: \\mu \\neq 8.2$ "
   ]
  },
  {
   "cell_type": "code",
   "execution_count": 7,
   "metadata": {
    "id": "AhGVMf2tK2LF",
    "nbgrader": {
     "grade": false,
     "grade_id": "cell-5ab063cfe94f3929",
     "locked": false,
     "schema_version": 3,
     "solution": true,
     "task": false
    }
   },
   "outputs": [],
   "source": [
    "# Task 4\n",
    "\n",
    "### BEGIN SOLUTION\n",
    "Answer = 'D'\n",
    "### END SOLUTION\n"
   ]
  },
  {
   "cell_type": "markdown",
   "metadata": {
    "id": "kbd9KuumLBxO"
   },
   "source": [
    "**Task 4 Test**"
   ]
  },
  {
   "cell_type": "code",
   "execution_count": 8,
   "metadata": {
    "nbgrader": {
     "grade": true,
     "grade_id": "cell-085e920bd147cbab",
     "locked": true,
     "points": 1,
     "schema_version": 3,
     "solution": false,
     "task": false
    }
   },
   "outputs": [],
   "source": [
    "# Task 4 - Test\n",
    "# Hidden tests - you will see the results when you submit to Canvas\n",
    "### BEGIN HIDDEN TESTS\n",
    "assert Answer == 'D', 'Think carefully about your hypotheses.'\n",
    "### END HIDDEN TESTS"
   ]
  },
  {
   "cell_type": "markdown",
   "metadata": {
    "id": "grU76-AUFQm1"
   },
   "source": [
    "**Task 5** - One-sample t-test\n",
    "\n",
    "* Conduct a 1-sample t-test to test your hypotheses. Assign your t-test result to the variable `mosquito_pval`. **This should be a single value**.\n",
    "\n",
    "*Hint: The `stats.ttest_1samp()` function returns two values; assign the results of the t-test to `_, mosquito_pval`.*"
   ]
  },
  {
   "cell_type": "code",
   "execution_count": 9,
   "metadata": {
    "id": "-wTk5Y1hFQm1",
    "nbgrader": {
     "grade": false,
     "grade_id": "cell-44b3f2a39081c5df",
     "locked": false,
     "schema_version": 3,
     "solution": true,
     "task": false
    }
   },
   "outputs": [],
   "source": [
    "# Task 5\n",
    "\n",
    "# Use the 'ttest_1samp' from the stats package\n",
    "from scipy import stats\n",
    "\n",
    "### BEGIN SOLUTION\n",
    "_, mosquito_pval = stats.ttest_1samp(df_mosquito['Mosq_count'], 8.2)\n",
    "### END SOLUTION"
   ]
  },
  {
   "cell_type": "markdown",
   "metadata": {
    "id": "MaBqJCZcFQm2"
   },
   "source": [
    "**Task 5 Test**"
   ]
  },
  {
   "cell_type": "code",
   "execution_count": 10,
   "metadata": {
    "id": "Mz-vEAVbFQm2",
    "nbgrader": {
     "grade": true,
     "grade_id": "cell-3be2eb1f16e366e6",
     "locked": true,
     "points": 1,
     "schema_version": 3,
     "solution": false,
     "task": false
    }
   },
   "outputs": [],
   "source": [
    "# Task 5 - Test\n",
    "# Hidden tests - you will see the results when you submit to Canvas\n",
    "### BEGIN HIDDEN TESTS\n",
    "assert round(mosquito_pval, 3) == 0.586, 'Did you use the correct population mean?'\n",
    "### END HIDDEN TESTS"
   ]
  },
  {
   "cell_type": "markdown",
   "metadata": {
    "id": "EcHLBuBVFQm2"
   },
   "source": [
    "**Task 6**\n",
    "\n",
    "Select the correct conclusion at the 0.05 significance level from the list of choices below. Specify your answer in the next code block using `Answer = `.  For example, if the correct answer is choice B, you'll type `Answer = 'B'`.\n",
    "\n",
    "A: We reject the null hypothesis at the 0.05 significance level and conclude that a single repellant patch reduces the mean number of mosquito touches.\n",
    "\n",
    "B: We fail to reject the null hypothesis at the 0.05 significance level and conclude that a single repellant patch reduces the mean number of mosquito touches.\n",
    "\n",
    "C: We fail to reject the null hypothesis at the 0.05 significance level and conclude that a single repellant patch does not change the mean number of mosquito touches.\n",
    "\n",
    "D: We reject the null hypothesis at the 0.05 significance level and conclude that a single repellant patch does not increase the mean number of mosquito touches.\n"
   ]
  },
  {
   "cell_type": "code",
   "execution_count": 11,
   "metadata": {
    "id": "2VqMVLj0MjZu",
    "nbgrader": {
     "grade": false,
     "grade_id": "cell-4d35984ef163c5e1",
     "locked": false,
     "schema_version": 3,
     "solution": true,
     "task": false
    }
   },
   "outputs": [],
   "source": [
    "# Task 6\n",
    "\n",
    "### BEGIN SOLUTION\n",
    "Answer = 'C'\n",
    "### END SOLUTION\n"
   ]
  },
  {
   "cell_type": "markdown",
   "metadata": {
    "id": "kn461ny8MjZ7"
   },
   "source": [
    "**Task 6 Test**"
   ]
  },
  {
   "cell_type": "code",
   "execution_count": 12,
   "metadata": {
    "nbgrader": {
     "grade": true,
     "grade_id": "cell-2f182809a44a91f5",
     "locked": true,
     "points": 1,
     "schema_version": 3,
     "solution": false,
     "task": false
    }
   },
   "outputs": [],
   "source": [
    "# Task 6 - Test\n",
    "# Hidden tests - you will see the results when you submit to Canvas\n",
    "### BEGIN HIDDEN TESTS\n",
    "assert Answer == 'C', 'Think carefully about your conclusion.'\n",
    "### END HIDDEN TESTS"
   ]
  },
  {
   "cell_type": "markdown",
   "metadata": {
    "id": "FGnFRSjRqG9s"
   },
   "source": [
    "## Use the following information to complete Tasks 7-13\n",
    "\n",
    "### Introduction\n",
    "\n",
    "More than 14,000 people finished the 2020 Disney Marathon held on January 12. The results by age and gender group are included in the `Disney.csv dataset`. \n",
    "\n",
    "**We wish to determine if the mean finishing time for male and female marathon runners is the same or if there is a difference in the mean finishing time between male and female marathon runners.**\n",
    "\n",
    "\n",
    "[Source: Track Shack. 2020 Disney Marathon Race Results](https://www.trackshackresults.com/disneysports/results/wdw/wdw20/mar_results.php)"
   ]
  },
  {
   "cell_type": "markdown",
   "metadata": {
    "id": "FKI1CcBFFQm2"
   },
   "source": [
    "**Task 7** - Load the next dataset\n",
    "\n",
    "Let's load the data! The URL has been provided.\n",
    "\n",
    "* load your CSV file into a DataFrame named `df_disney`"
   ]
  },
  {
   "cell_type": "code",
   "execution_count": 13,
   "metadata": {
    "id": "KIpOQrHytz2P",
    "nbgrader": {
     "grade": false,
     "grade_id": "cell-2b389fa658a51cd2",
     "locked": false,
     "schema_version": 3,
     "solution": true,
     "task": false
    }
   },
   "outputs": [],
   "source": [
    "# Task 7\n",
    "\n",
    "# URL for Disney marathon dataset\n",
    "data_url2 = 'https://raw.githubusercontent.com/LambdaSchool/data-science-practice-datasets/main/unit_1/Disney_Marathon/Disney.csv'\n",
    "\n",
    "### BEGIN SOLUTION\n",
    "df_disney = pd.read_csv(data_url2)\n",
    "### END SOLUTION"
   ]
  },
  {
   "cell_type": "markdown",
   "metadata": {
    "id": "Qiwzz_nfFQm3"
   },
   "source": [
    "**Task 7 Test**"
   ]
  },
  {
   "cell_type": "code",
   "execution_count": 14,
   "metadata": {
    "id": "uV3GQJqKFQm3",
    "nbgrader": {
     "grade": true,
     "grade_id": "cell-c1f16b75c543e0d1",
     "locked": true,
     "points": 1,
     "schema_version": 3,
     "solution": false,
     "task": false
    }
   },
   "outputs": [],
   "source": [
    "# Task 7 - Test\n",
    "\n",
    "assert isinstance(df_disney, pd.DataFrame), 'Have you created a DataFrame named `df_disney`?'\n",
    "assert len(df_disney) == 14106\n",
    "\n",
    "### BEGIN HIDDEN TESTS\n",
    "assert df_disney.shape == (14106, 5), 'Make sure you correctly read in the DataFrame'\n",
    "### END HIDDEN TESTS"
   ]
  },
  {
   "cell_type": "markdown",
   "metadata": {
    "id": "RvxaZUrbNXvY"
   },
   "source": [
    "**Task 8 -** Statistical hypotheses\n",
    "\n",
    "From the list of choices below, select the null and alternative hypotheses using the experiment information described above.  Let $\\mu_1$ be the mean finishing time for all male runners and $\\mu_2$ be the mean finishing time for all female runners.\n",
    "\n",
    "Specify your answer in the next code block using `Answer = `.  For example, if the correct answer is choice B, you'll type `Answer = 'B'`.\n",
    "\n",
    "A: $H_0: \\mu_1 \\neq \\mu_2$ vs. $H_a: \\mu_1 = \\mu_2$\n",
    "\n",
    "B: $H_0: \\mu_1 = \\mu_2$ vs. $H_a: \\mu_1 \\neq \\mu_2$\n",
    "\n",
    "C: $H_0: \\mu_1 > \\mu_2$ vs. $H_a: \\mu_1 < \\mu_2$ \n",
    "\n",
    "D: $H_0: \\mu_1 <  \\mu_2$ vs. $H_a: \\mu_1 > \\mu_2$ "
   ]
  },
  {
   "cell_type": "code",
   "execution_count": 15,
   "metadata": {
    "id": "9SnqedsaNXvb",
    "nbgrader": {
     "grade": false,
     "grade_id": "cell-de36ef90faad17d8",
     "locked": false,
     "schema_version": 3,
     "solution": true,
     "task": false
    }
   },
   "outputs": [],
   "source": [
    "# Task 8\n",
    "\n",
    "### BEGIN SOLUTION\n",
    "Answer = 'B'\n",
    "### END SOLUTION\n"
   ]
  },
  {
   "cell_type": "markdown",
   "metadata": {
    "id": "jGLHnEkjNXvb"
   },
   "source": [
    "**Task 8 Test**"
   ]
  },
  {
   "cell_type": "code",
   "execution_count": 16,
   "metadata": {
    "nbgrader": {
     "grade": true,
     "grade_id": "cell-492e80f1f416b2c9",
     "locked": true,
     "points": 1,
     "schema_version": 3,
     "solution": false,
     "task": false
    }
   },
   "outputs": [],
   "source": [
    "# Task 8 - Test\n",
    "# Hidden tests - you will see the results when you submit to Canvas\n",
    "### BEGIN HIDDEN TESTS\n",
    "assert Answer == 'B', 'Think carefully about your hypotheses.'\n",
    "### END HIDDEN TESTS"
   ]
  },
  {
   "cell_type": "markdown",
   "metadata": {
    "id": "z8iVyfsxFQm3"
   },
   "source": [
    "**Task 9** - Create new series from a DataFrame\n",
    "\n",
    "Create **Series** (a pandas DataFrame column is a Series):\n",
    "\n",
    "* one containing finishing times for male participants (`male_finish`)\n",
    "* one containing finishing times for female participants (`female_finish`)\n",
    "\n",
    "*Hint: Check the size of your resulting Series - it should have only one column!*"
   ]
  },
  {
   "cell_type": "code",
   "execution_count": 17,
   "metadata": {
    "id": "jKzFL1O4FQm3",
    "nbgrader": {
     "grade": false,
     "grade_id": "cell-4290d3dd2f668a25",
     "locked": false,
     "schema_version": 3,
     "solution": true,
     "task": false
    }
   },
   "outputs": [],
   "source": [
    "# Task 9\n",
    "\n",
    "### BEGIN SOLUTION\n",
    "male_finish = df_disney['time'].loc[df_disney['gender'] == 'M']\n",
    "female_finish = df_disney['time'].loc[df_disney['gender'] == 'F']\n",
    "### END SOLUTION"
   ]
  },
  {
   "cell_type": "markdown",
   "metadata": {
    "id": "jR0BQZDOFQm4"
   },
   "source": [
    "**Task 9 Test**"
   ]
  },
  {
   "cell_type": "code",
   "execution_count": 18,
   "metadata": {
    "id": "HX6vIdPVFQm4",
    "nbgrader": {
     "grade": true,
     "grade_id": "cell-5384320ccd7f5048",
     "locked": true,
     "points": 1,
     "schema_version": 3,
     "solution": false,
     "task": false
    }
   },
   "outputs": [],
   "source": [
    "# Task 9 - Test\n",
    "# Visible testing - use this to check your results!\n",
    "assert male_finish.shape == (6577,), 'Make sure you selected M and only have a single column.'\n",
    "assert female_finish.shape == (7529,), 'Make sure you selected F and only have a single column'\n",
    "\n",
    "# NO hidden tests"
   ]
  },
  {
   "cell_type": "markdown",
   "metadata": {
    "id": "aoQoLUUwFQm4"
   },
   "source": [
    "**Task 10** - Calculate the mean finishing times\n",
    "\n",
    "* Calculate the mean finishing time for male and female participants separately. Name your variables `male_finish_mean` and `female_finish_mean`."
   ]
  },
  {
   "cell_type": "code",
   "execution_count": 19,
   "metadata": {
    "id": "FbT_uMyiFQm4",
    "nbgrader": {
     "grade": false,
     "grade_id": "cell-f6c55ea4a2dba463",
     "locked": false,
     "schema_version": 3,
     "solution": true,
     "task": false
    }
   },
   "outputs": [],
   "source": [
    "# Task 10\n",
    "\n",
    "### BEGIN SOLUTION\n",
    "male_finish_mean = male_finish.mean()\n",
    "female_finish_mean = female_finish.mean()\n",
    "### END SOLUTION"
   ]
  },
  {
   "cell_type": "markdown",
   "metadata": {
    "id": "mmtsiJtsFQm5"
   },
   "source": [
    "**Task 10 Test**"
   ]
  },
  {
   "cell_type": "code",
   "execution_count": 20,
   "metadata": {
    "id": "bmUKO7OCFQm5",
    "nbgrader": {
     "grade": true,
     "grade_id": "cell-71bc6659db96de45",
     "locked": true,
     "points": 1,
     "schema_version": 3,
     "solution": false,
     "task": false
    }
   },
   "outputs": [],
   "source": [
    "# Task 10 - Test\n",
    "# Hidden tests - you will see the results when you submit to Canvas\n",
    "### BEGIN HIDDEN TESTS\n",
    "assert round(male_finish_mean, 2) == 5.80, 'Did you use the .mean() method?'\n",
    "assert round(female_finish_mean, 2) == 6.29, 'Did you use the .mean() method?'\n",
    "### END HIDDEN TESTS"
   ]
  },
  {
   "cell_type": "markdown",
   "metadata": {
    "id": "E4hBpeFSFQm5"
   },
   "source": [
    "**Task 11** - Calculate the standard deviation\n",
    "\n",
    "* Calculate standard deviation of the mean finishing time for male and female participants separately. Name your variables `male_finish_std` and `female_finish_std`."
   ]
  },
  {
   "cell_type": "code",
   "execution_count": 21,
   "metadata": {
    "id": "Xww6azWUFQm5",
    "nbgrader": {
     "grade": false,
     "grade_id": "cell-3ac04d8339ec03c3",
     "locked": false,
     "schema_version": 3,
     "solution": true,
     "task": false
    }
   },
   "outputs": [],
   "source": [
    "# Task 11\n",
    "\n",
    "### BEGIN SOLUTION\n",
    "male_finish_std = male_finish.std()\n",
    "female_finish_std = female_finish.std()\n",
    "### END SOLUTION"
   ]
  },
  {
   "cell_type": "markdown",
   "metadata": {
    "id": "Wgvj_UzxFQm5"
   },
   "source": [
    "**Task 11 Test**"
   ]
  },
  {
   "cell_type": "code",
   "execution_count": 22,
   "metadata": {
    "id": "QA6G8ZVyFQm6",
    "nbgrader": {
     "grade": true,
     "grade_id": "cell-a2de7fe5b67a1886",
     "locked": true,
     "points": 1,
     "schema_version": 3,
     "solution": false,
     "task": false
    }
   },
   "outputs": [],
   "source": [
    "# Task 11 - Test\n",
    "# Hidden tests - you will see the results when you submit to Canvas\n",
    "### BEGIN HIDDEN TESTS\n",
    "assert round(male_finish_std, 2) == 1.10, 'Did you use the .std() method?'\n",
    "assert round(female_finish_std, 2) == 0.90, 'Did you use the .std() method?'\n",
    "### END HIDDEN TESTS"
   ]
  },
  {
   "cell_type": "markdown",
   "metadata": {
    "id": "H4WjCOrLFQm6"
   },
   "source": [
    "**Task 12** - Conduct a 2-sample t-test\n",
    "\n",
    "Conduct a 2-sample t-test to test your hypotheses:\n",
    "\n",
    "* Assign the t-statistic to a variable called `disney_tval`\n",
    "* Assign the p-value to a variable called `disney_pval`\n",
    "\n",
    "**Note:** The function returns two values and you can assign them with one line (example):\n",
    "\n",
    "`variable1, variable2` = `some.function(arguments)`"
   ]
  },
  {
   "cell_type": "code",
   "execution_count": 23,
   "metadata": {
    "id": "8jfpPCjWFQm6",
    "nbgrader": {
     "grade": false,
     "grade_id": "cell-d391e7e149994d87",
     "locked": false,
     "schema_version": 3,
     "solution": true,
     "task": false
    }
   },
   "outputs": [],
   "source": [
    "# Task 12\n",
    "\n",
    "### BEGIN SOLUTION\n",
    "disney_tval, disney_pval = stats.ttest_ind(male_finish, female_finish)\n",
    "\n",
    "# Alternate solution:\n",
    "\n",
    "#stats.ttest_ind_from_stats(male_finish_mean, male_finish_std, len(male_finish), \n",
    "#                                 female_finish_mean, female_finish_std, len(female_finish), equal_var=True)\n",
    "### END SOLUTION"
   ]
  },
  {
   "cell_type": "markdown",
   "metadata": {
    "id": "JDESTg77FQm6"
   },
   "source": [
    "**Task 12 Test**"
   ]
  },
  {
   "cell_type": "code",
   "execution_count": 24,
   "metadata": {
    "id": "bgKW-YmNFQm6",
    "nbgrader": {
     "grade": true,
     "grade_id": "cell-35a1e3947ac6388a",
     "locked": true,
     "points": 1,
     "schema_version": 3,
     "solution": false,
     "task": false
    }
   },
   "outputs": [],
   "source": [
    "# Task 12 - Test\n",
    "# Hidden tests - you will see the results when you submit to Canvas\n",
    "### BEGIN HIDDEN TESTS\n",
    "assert round(disney_tval) == -29, 'Did you assign the correct values?'\n",
    "assert round(disney_pval) == 0, 'Did you assign the correct values?'\n",
    "### END HIDDEN TESTS"
   ]
  },
  {
   "cell_type": "markdown",
   "metadata": {
    "id": "nusDTdXxOyUB"
   },
   "source": [
    "**Task 13**\n",
    "\n",
    "Select the correct conclusion at the 0.05 significance level from the list of choices below. Specify your answer in the next code block using `Answer = `.  For example, if the correct answer is choice B, you'll type `Answer = 'B'`.\n",
    "\n",
    "A: We reject the null hypothesis at the 0.05 significance level and conclude the mean finishing time for male and female marathon runners is different.\n",
    "\n",
    "B: We fail to reject the null hypothesis at the 0.05 significance level and conclude the mean finishing time for male and female marathon runners is different.\n",
    "\n",
    "C: We reject the null hypothesis at the 0.05 significance level and conclude the mean finishing time for male and female marathon runners is the same.\n",
    "\n",
    "D: We fail to reject the null hypothesis at the 0.05 significance level and conclude the mean finishing time for male and female marathon runners is the same.\n"
   ]
  },
  {
   "cell_type": "code",
   "execution_count": 25,
   "metadata": {
    "id": "d5n9MhFFOyUN",
    "nbgrader": {
     "grade": false,
     "grade_id": "cell-66e19643f07fb7af",
     "locked": false,
     "schema_version": 3,
     "solution": true,
     "task": false
    }
   },
   "outputs": [],
   "source": [
    "# Task 13\n",
    "\n",
    "### BEGIN SOLUTION\n",
    "Answer = 'A'\n",
    "### END SOLUTION\n"
   ]
  },
  {
   "cell_type": "markdown",
   "metadata": {
    "id": "DWAMbt2VOyUN"
   },
   "source": [
    "**Task 13 Test**"
   ]
  },
  {
   "cell_type": "code",
   "execution_count": 26,
   "metadata": {
    "nbgrader": {
     "grade": true,
     "grade_id": "cell-d166fbea62c826e8",
     "locked": true,
     "points": 1,
     "schema_version": 3,
     "solution": false,
     "task": false
    }
   },
   "outputs": [],
   "source": [
    "# Task 13 - Test\n",
    "# Hidden tests - you will see the results when you submit to Canvas\n",
    "### BEGIN HIDDEN TESTS\n",
    "assert Answer == 'A', 'Think carefully about your conclusion.'\n",
    "### END HIDDEN TESTS"
   ]
  }
 ],
 "metadata": {
  "celltoolbar": "Create Assignment",
  "colab": {
   "collapsed_sections": [],
   "name": "LS_DS_121_ttests_Assignment_AG.ipynb",
   "provenance": []
  },
  "kernelspec": {
   "display_name": "Python 3",
   "language": "python",
   "name": "python3"
  },
  "language_info": {
   "codemirror_mode": {
    "name": "ipython",
    "version": 3
   },
   "file_extension": ".py",
   "mimetype": "text/x-python",
   "name": "python",
   "nbconvert_exporter": "python",
   "pygments_lexer": "ipython3",
   "version": "3.7.4"
  }
 },
 "nbformat": 4,
 "nbformat_minor": 1
}
