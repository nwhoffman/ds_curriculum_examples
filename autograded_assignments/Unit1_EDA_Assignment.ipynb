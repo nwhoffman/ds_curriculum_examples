{
 "cells": [
  {
   "cell_type": "markdown",
   "metadata": {
    "id": "Ldr0HZ193GKb"
   },
   "source": [
    "# Lambda School Data Science - Unit 1 Sprint 1 Module 1\n",
    "\n",
    "## Exploratory Data Analysis\n",
    "\n",
    "### Module Learning Objectives\n",
    "\n",
    "\n",
    "- Load a CSV dataset from a URL using `pandas.read_csv`\n",
    "- Load a CSV dataset from a local file using `pandas.read_csv\n",
    "- Use basic Pandas functions for Exploratory Data Analysis-EDA\n",
    "- Describe and discriminate between basic data types such as categorical, quantitative, continuous, discrete, ordinal, nominal and identifier\n",
    "\n",
    "### Notebook points: 12"
   ]
  },
  {
   "cell_type": "markdown",
   "metadata": {
    "id": "jFscSILVLZit"
   },
   "source": [
    "## Autograded Module Projects\n",
    "\n",
    "Welcome to the first Module Project of Unit 1! You will complete a project (sometimes also referred to as an assignment) after the Guided Project for each Module. There will be four Module Projects per Sprint and each project is designed to provide you with an opportunity to practice what you learned in the Canvas Warm-up material and the Guided Project with your Instructors.\n",
    "\n",
    "Throughout Unit 1, the Module Projects and the Sprint Challenges are *autograded*. You will complete your work in a Jupyter/Python notebook (the files that end with `.ipynb`) and then upload your completed notebook to Canvas and submit for grading. This autograding process will check your answers and provide more information about the errors in your notebook. You'll receive a score when the testing is complete.\n",
    "\n",
    "So, let's get started! If you are reading this notebook, then you have the correct autograded version."
   ]
  },
  {
   "cell_type": "markdown",
   "metadata": {
    "id": "2CkckTc6-txA"
   },
   "source": [
    "## Introduction\n",
    "\n",
    "For this module, we learned how to use some of the most common tools for exploring our data. We'll continue to practice our `pandas` skills with a new dataset. \n",
    "\n",
    "## Dataset Description\n",
    "\n",
    "Explore the University of California - Irvine Adult Dataset"
   ]
  },
  {
   "cell_type": "markdown",
   "metadata": {
    "id": "dd7NLO359fux"
   },
   "source": [
    "**Task 1** - Load a dataset via its URL\n",
    "\n",
    "* Create a Python list named `column_headers` with the following items: `'age', 'workclass', 'fnlwgt', 'education', 'education-num', 'marital-status', 'occupation', 'relationship', 'race', 'sex', 'capital-gain', 'capital-loss', 'hours-per-week','native-country', 'income'`.  Lists have the form `listname = ['element 1', 'element 2', element 3']`\n",
    "* Load the file from the URL provided below using the `column_headers` list you created to name your columns: set the `pd.read_csv()` to `column_headers` using `names =`.  \n",
    "* Name the DataFrame `adult`"
   ]
  },
  {
   "cell_type": "code",
   "execution_count": 27,
   "metadata": {
    "colab": {
     "base_uri": "https://localhost:8080/",
     "height": 197
    },
    "id": "0M6HGqld9Azy",
    "nbgrader": {
     "grade": false,
     "grade_id": "cell-8a338d1f29fadeee",
     "locked": false,
     "schema_version": 3,
     "solution": true,
     "task": false
    },
    "outputId": "699a29b1-f7e9-4de4-fdb3-dc100f15239f"
   },
   "outputs": [
    {
     "data": {
      "text/html": [
       "<div>\n",
       "<style scoped>\n",
       "    .dataframe tbody tr th:only-of-type {\n",
       "        vertical-align: middle;\n",
       "    }\n",
       "\n",
       "    .dataframe tbody tr th {\n",
       "        vertical-align: top;\n",
       "    }\n",
       "\n",
       "    .dataframe thead th {\n",
       "        text-align: right;\n",
       "    }\n",
       "</style>\n",
       "<table border=\"1\" class=\"dataframe\">\n",
       "  <thead>\n",
       "    <tr style=\"text-align: right;\">\n",
       "      <th></th>\n",
       "      <th>age</th>\n",
       "      <th>workclass</th>\n",
       "      <th>fnlwgt</th>\n",
       "      <th>education</th>\n",
       "      <th>education-num</th>\n",
       "      <th>marital-status</th>\n",
       "      <th>occupation</th>\n",
       "      <th>relationship</th>\n",
       "      <th>race</th>\n",
       "      <th>sex</th>\n",
       "      <th>capital-gain</th>\n",
       "      <th>capital-loss</th>\n",
       "      <th>hours-per-week</th>\n",
       "      <th>native-country</th>\n",
       "      <th>income</th>\n",
       "    </tr>\n",
       "  </thead>\n",
       "  <tbody>\n",
       "    <tr>\n",
       "      <th>0</th>\n",
       "      <td>39</td>\n",
       "      <td>State-gov</td>\n",
       "      <td>77516</td>\n",
       "      <td>Bachelors</td>\n",
       "      <td>13</td>\n",
       "      <td>Never-married</td>\n",
       "      <td>Adm-clerical</td>\n",
       "      <td>Not-in-family</td>\n",
       "      <td>White</td>\n",
       "      <td>Male</td>\n",
       "      <td>2174</td>\n",
       "      <td>0</td>\n",
       "      <td>40</td>\n",
       "      <td>United-States</td>\n",
       "      <td>&lt;=50K</td>\n",
       "    </tr>\n",
       "    <tr>\n",
       "      <th>1</th>\n",
       "      <td>50</td>\n",
       "      <td>Self-emp-not-inc</td>\n",
       "      <td>83311</td>\n",
       "      <td>Bachelors</td>\n",
       "      <td>13</td>\n",
       "      <td>Married-civ-spouse</td>\n",
       "      <td>Exec-managerial</td>\n",
       "      <td>Husband</td>\n",
       "      <td>White</td>\n",
       "      <td>Male</td>\n",
       "      <td>0</td>\n",
       "      <td>0</td>\n",
       "      <td>13</td>\n",
       "      <td>United-States</td>\n",
       "      <td>&lt;=50K</td>\n",
       "    </tr>\n",
       "    <tr>\n",
       "      <th>2</th>\n",
       "      <td>38</td>\n",
       "      <td>Private</td>\n",
       "      <td>215646</td>\n",
       "      <td>HS-grad</td>\n",
       "      <td>9</td>\n",
       "      <td>Divorced</td>\n",
       "      <td>Handlers-cleaners</td>\n",
       "      <td>Not-in-family</td>\n",
       "      <td>White</td>\n",
       "      <td>Male</td>\n",
       "      <td>0</td>\n",
       "      <td>0</td>\n",
       "      <td>40</td>\n",
       "      <td>United-States</td>\n",
       "      <td>&lt;=50K</td>\n",
       "    </tr>\n",
       "    <tr>\n",
       "      <th>3</th>\n",
       "      <td>53</td>\n",
       "      <td>Private</td>\n",
       "      <td>234721</td>\n",
       "      <td>11th</td>\n",
       "      <td>7</td>\n",
       "      <td>Married-civ-spouse</td>\n",
       "      <td>Handlers-cleaners</td>\n",
       "      <td>Husband</td>\n",
       "      <td>Black</td>\n",
       "      <td>Male</td>\n",
       "      <td>0</td>\n",
       "      <td>0</td>\n",
       "      <td>40</td>\n",
       "      <td>United-States</td>\n",
       "      <td>&lt;=50K</td>\n",
       "    </tr>\n",
       "    <tr>\n",
       "      <th>4</th>\n",
       "      <td>28</td>\n",
       "      <td>Private</td>\n",
       "      <td>338409</td>\n",
       "      <td>Bachelors</td>\n",
       "      <td>13</td>\n",
       "      <td>Married-civ-spouse</td>\n",
       "      <td>Prof-specialty</td>\n",
       "      <td>Wife</td>\n",
       "      <td>Black</td>\n",
       "      <td>Female</td>\n",
       "      <td>0</td>\n",
       "      <td>0</td>\n",
       "      <td>40</td>\n",
       "      <td>Cuba</td>\n",
       "      <td>&lt;=50K</td>\n",
       "    </tr>\n",
       "  </tbody>\n",
       "</table>\n",
       "</div>"
      ],
      "text/plain": [
       "   age          workclass  fnlwgt   education  education-num  \\\n",
       "0   39          State-gov   77516   Bachelors             13   \n",
       "1   50   Self-emp-not-inc   83311   Bachelors             13   \n",
       "2   38            Private  215646     HS-grad              9   \n",
       "3   53            Private  234721        11th              7   \n",
       "4   28            Private  338409   Bachelors             13   \n",
       "\n",
       "        marital-status          occupation    relationship    race      sex  \\\n",
       "0        Never-married        Adm-clerical   Not-in-family   White     Male   \n",
       "1   Married-civ-spouse     Exec-managerial         Husband   White     Male   \n",
       "2             Divorced   Handlers-cleaners   Not-in-family   White     Male   \n",
       "3   Married-civ-spouse   Handlers-cleaners         Husband   Black     Male   \n",
       "4   Married-civ-spouse      Prof-specialty            Wife   Black   Female   \n",
       "\n",
       "   capital-gain  capital-loss  hours-per-week  native-country  income  \n",
       "0          2174             0              40   United-States   <=50K  \n",
       "1             0             0              13   United-States   <=50K  \n",
       "2             0             0              40   United-States   <=50K  \n",
       "3             0             0              40   United-States   <=50K  \n",
       "4             0             0              40            Cuba   <=50K  "
      ]
     },
     "execution_count": 27,
     "metadata": {},
     "output_type": "execute_result"
    }
   ],
   "source": [
    "# Task 1\n",
    "import pandas as pd\n",
    "import numpy as np\n",
    "\n",
    "# URL for the dataset\n",
    "data_url = 'https://archive.ics.uci.edu/ml/machine-learning-databases/adult/adult.data'\n",
    "\n",
    "### BEGIN SOLUTION\n",
    "\n",
    "# Create the column headers list\n",
    "column_headers = ['age',\n",
    "                  'workclass',\n",
    "                  'fnlwgt', \n",
    "                  'education',\n",
    "                  'education-num',\n",
    "                  'marital-status',\n",
    "                  'occupation',\n",
    "                  'relationship',\n",
    "                  'race',\n",
    "                  'sex',\n",
    "                  'capital-gain',\n",
    "                  'capital-loss',\n",
    "                  'hours-per-week',\n",
    "                  'native-country',\n",
    "                  'income']\n",
    "\n",
    "adult = pd.read_csv(data_url, names=column_headers)\n",
    "\n",
    "### END SOLUTION\n",
    "\n",
    "# Print out your DataFrame\n",
    "adult.head()"
   ]
  },
  {
   "cell_type": "markdown",
   "metadata": {
    "id": "ft9Q-xAzLZiw"
   },
   "source": [
    "**Task 1 Test**"
   ]
  },
  {
   "cell_type": "code",
   "execution_count": 28,
   "metadata": {
    "id": "Sc50B74_LZiw",
    "nbgrader": {
     "grade": true,
     "grade_id": "cell-6593303164ade3dd",
     "locked": true,
     "points": 1,
     "schema_version": 3,
     "solution": false,
     "task": false
    }
   },
   "outputs": [],
   "source": [
    "# Task 1 - Test\n",
    "\n",
    "# These tests are for you to check your work before submitting\n",
    "assert isinstance(column_headers, list), 'Have you created a list of header names?'\n",
    "assert len(column_headers) == 15, 'Did you include the correct number of items in the column_headers list?'\n",
    "assert isinstance(adult, pd.DataFrame), 'Have you created a DataFrame named adult?'\n",
    "\n",
    "# These tests will be completed when you submit your notebook for autograding\n",
    "### BEGIN HIDDEN TESTS\n",
    "assert adult.shape == (32561, 15), 'Double check your DataFrame size.'\n",
    "### END HIDDEN TESTS"
   ]
  },
  {
   "cell_type": "markdown",
   "metadata": {
    "id": "HSsStMHQ5x3B"
   },
   "source": [
    "**Task 2** - Look at the first and last rows of the DataFrame\n",
    "\n",
    "* Assign the first **ten (10)** rows of the `adult` DataFrame to `adult_head`\n",
    "* Assign the last **ten (10)** rows of the `adult` DataFrame to `adult_tail`"
   ]
  },
  {
   "cell_type": "code",
   "execution_count": 29,
   "metadata": {
    "id": "MRxFDeCAXyTI",
    "nbgrader": {
     "grade": false,
     "grade_id": "cell-a9fb33ec1c6025a8",
     "locked": false,
     "schema_version": 3,
     "solution": true,
     "task": false
    }
   },
   "outputs": [],
   "source": [
    "# Task 2\n",
    "\n",
    "### BEGIN SOLUTION\n",
    "adult_head = adult.head(10)\n",
    "adult_tail = adult.tail(10)\n",
    "### END SOLUTION\n",
    "\n",
    "# Optional: print out adult_head and adult_tail"
   ]
  },
  {
   "cell_type": "markdown",
   "metadata": {
    "id": "EZbOaV38LZix"
   },
   "source": [
    "**Task 2 Test**"
   ]
  },
  {
   "cell_type": "code",
   "execution_count": 30,
   "metadata": {
    "id": "dXGrhWAcLZix",
    "nbgrader": {
     "grade": true,
     "grade_id": "cell-db111c4de2805de2",
     "locked": true,
     "points": 1,
     "schema_version": 3,
     "solution": false,
     "task": false
    }
   },
   "outputs": [],
   "source": [
    "# Task 2 - Test\n",
    "\n",
    "# These tests are for you to check your work before submitting\n",
    "assert isinstance(adult_head, pd.DataFrame), 'Have you created a DataFrame named adult_head?'\n",
    "assert isinstance(adult_tail, pd.DataFrame), 'Have you created a DataFrame named adult_tail?'\n",
    "\n",
    "# These tests will be completed when you submit your notebook for autograding\n",
    "### BEGIN HIDDEN TESTS\n",
    "assert adult_head.shape == (10, 15), 'Double check your adult_head DataFrame size.'\n",
    "assert adult_tail.shape == (10, 15), 'Double check your adult_tail DataFrame size.'\n",
    "### END HIDDEN TESTS"
   ]
  },
  {
   "cell_type": "markdown",
   "metadata": {
    "id": "oMYl6Og4baK-"
   },
   "source": [
    "**Task 3** - Variable data types\n",
    "\n",
    "For your `adult` DataFrame, determine the data types for the variables.\n",
    "\n",
    "* Count the number of `int64` variable types and assign to `number_int64` (your value should be an integer)\n",
    "* Count the number of `object` variable types and assign to `number_object` (your value should be an integer)\n",
    "\n",
    "There are different ways to find the data types of the columns in a DataFrame. All you need to do for this task is to count the number of each data type and assign to the corresponding variable."
   ]
  },
  {
   "cell_type": "code",
   "execution_count": 31,
   "metadata": {
    "id": "0awSPnZ6bc2L",
    "nbgrader": {
     "grade": false,
     "grade_id": "cell-340508752abebcbf",
     "locked": false,
     "schema_version": 3,
     "solution": true,
     "task": false
    }
   },
   "outputs": [],
   "source": [
    "# Task 3\n",
    "\n",
    "### BEGIN SOLUTION\n",
    "# Display the data types\n",
    "adult.dtypes\n",
    "number_int64 = 6\n",
    "number_object = 9\n",
    "### END SOLUTION"
   ]
  },
  {
   "cell_type": "markdown",
   "metadata": {
    "id": "sUgvOtBELZiy"
   },
   "source": [
    "**Task 3 Test**"
   ]
  },
  {
   "cell_type": "code",
   "execution_count": 32,
   "metadata": {
    "id": "vabkw4HtLZiy",
    "nbgrader": {
     "grade": true,
     "grade_id": "cell-05ba0ce5673511d6",
     "locked": true,
     "points": 1,
     "schema_version": 3,
     "solution": false,
     "task": false
    }
   },
   "outputs": [],
   "source": [
    "# Task 3 - Test\n",
    "\n",
    "# Hidden tests - you will see the results when you submit to Canvas\n",
    "### BEGIN HIDDEN TESTS\n",
    "assert number_int64 == 6, 'Double check the number of int64 variables.'\n",
    "assert number_object == 9, 'Double check the number of object variables.'\n",
    "### END HIDDEN TESTS"
   ]
  },
  {
   "cell_type": "markdown",
   "metadata": {
    "id": "H58VKvI8bjS1"
   },
   "source": [
    "**Task 4** - DataFrame dimensions\n",
    "\n",
    "* Find the dimensions of your DataFrame and assign result to the variable `adult_dimension`. Your variable should be a *tuple* and the row dimension should be listed first.\n",
    "\n",
    "Hint: A tuple looks like this: (1, 2) - a tuple is a collection which is ordered and unchangeable. You can use the function `type(your_variable)` to print the variable type.\n",
    "\n",
    "Hint 2: The `shape` method returns a tuple - convenient!"
   ]
  },
  {
   "cell_type": "code",
   "execution_count": 33,
   "metadata": {
    "colab": {
     "base_uri": "https://localhost:8080/",
     "height": 34
    },
    "id": "ket3F7EAbt75",
    "nbgrader": {
     "grade": false,
     "grade_id": "cell-d70ccb5657fd3d7b",
     "locked": false,
     "schema_version": 3,
     "solution": true,
     "task": false
    },
    "outputId": "1ebdbb65-648a-4929-fa02-965bf14d70ee"
   },
   "outputs": [
    {
     "name": "stdout",
     "output_type": "stream",
     "text": [
      "(32561, 15)\n"
     ]
    }
   ],
   "source": [
    "# Task 4\n",
    "\n",
    "### BEGIN SOLUTION\n",
    "adult_dimension = adult.shape\n",
    "### END SOLUTION\n",
    "\n",
    "# Print out the shape\n",
    "print(adult_dimension)"
   ]
  },
  {
   "cell_type": "markdown",
   "metadata": {
    "id": "y4loyfwyLZiz"
   },
   "source": [
    "**Task 4 Test**"
   ]
  },
  {
   "cell_type": "code",
   "execution_count": 34,
   "metadata": {
    "id": "W6XASDsmLZiz",
    "nbgrader": {
     "grade": true,
     "grade_id": "cell-6826bc35a7f56e9d",
     "locked": true,
     "points": 1,
     "schema_version": 3,
     "solution": false,
     "task": false
    }
   },
   "outputs": [],
   "source": [
    "# Task 4 - Test\n",
    "\n",
    "assert isinstance(adult_dimension, tuple), 'Have you created a tuple named adult_dimension?'\n",
    "\n",
    "# Hidden tests - you will see the results when you submit to Canvas\n",
    "### BEGIN HIDDEN TESTS\n",
    "assert adult_dimension == (32561, 15), 'Check your dimensions and make sure you have rows listed first.'\n",
    "### END HIDDEN TESTS"
   ]
  },
  {
   "cell_type": "markdown",
   "metadata": {
    "id": "myXXrct79tMI"
   },
   "source": [
    "**Task 5** - Missing values\n",
    "\n",
    "Are there any missing values in the dataset? Let's check!\n",
    "\n",
    "* Check for missing values using `.isnull().sum()`\n",
    "* Count the number of missing values and assign the value to the variable `adult_missing`. Your variable should be an integer."
   ]
  },
  {
   "cell_type": "code",
   "execution_count": 35,
   "metadata": {
    "colab": {
     "base_uri": "https://localhost:8080/",
     "height": 289
    },
    "id": "fBCiVy7r-WlX",
    "nbgrader": {
     "grade": false,
     "grade_id": "cell-061626ea17d6ee51",
     "locked": false,
     "schema_version": 3,
     "solution": true,
     "task": false
    },
    "outputId": "524fb664-2050-4319-c65a-b29af9057098"
   },
   "outputs": [
    {
     "name": "stdout",
     "output_type": "stream",
     "text": [
      "age               0\n",
      "workclass         0\n",
      "fnlwgt            0\n",
      "education         0\n",
      "education-num     0\n",
      "marital-status    0\n",
      "occupation        0\n",
      "relationship      0\n",
      "race              0\n",
      "sex               0\n",
      "capital-gain      0\n",
      "capital-loss      0\n",
      "hours-per-week    0\n",
      "native-country    0\n",
      "income            0\n",
      "dtype: int64\n"
     ]
    }
   ],
   "source": [
    "# Task 5\n",
    "\n",
    "### BEGIN SOLUTION\n",
    "print(adult.isnull().sum())\n",
    "# There are no missing values\n",
    "adult_missing = 0\n",
    "### END SOLUTION"
   ]
  },
  {
   "cell_type": "markdown",
   "metadata": {
    "id": "p7tnZZ69LZi0"
   },
   "source": [
    "**Task 5 Test**"
   ]
  },
  {
   "cell_type": "code",
   "execution_count": 36,
   "metadata": {
    "id": "E5OILknTLZi0",
    "nbgrader": {
     "grade": true,
     "grade_id": "cell-fa29b69831f8efb7",
     "locked": true,
     "points": 1,
     "schema_version": 3,
     "solution": false,
     "task": false
    }
   },
   "outputs": [],
   "source": [
    "# Task 5 - Test\n",
    "\n",
    "# Hidden tests - you will see the results when you submit to Canvas\n",
    "### BEGIN HIDDEN TESTS\n",
    "assert adult_missing == 0, 'Check you missing values sum - there should be no missing values.'\n",
    "### END HIDDEN TESTS"
   ]
  },
  {
   "cell_type": "markdown",
   "metadata": {
    "id": "1LCvfKCaCuf_"
   },
   "source": [
    "**Task 6** - Viewing DataFrame statistics\n",
    "\n",
    "Let's look at some of the *summary statistics* of our dataset. We can use the .describe() function in order to see the summary statistics of the numeric columns.\n",
    "\n",
    "Look at the statistics for the `adult` DataFrame and then complete the following two tasks:\n",
    "\n",
    "* Find the value for the mean `age` and assign it to the variable `mean_age` (your value should be a float and defined to two decimal places)\n",
    "* Find the standard deviation (std) for the `hours-per-week` variable and assign it to `std_hpw` (your value should be a float and defined to two decimal places)\n",
    "\n",
    "Are there any values shown that might be a code for missing data?  We'll learn how to change the values in a DataFrame in the next module."
   ]
  },
  {
   "cell_type": "code",
   "execution_count": 37,
   "metadata": {
    "id": "V_9FGaBLBAu5",
    "nbgrader": {
     "grade": false,
     "grade_id": "cell-379c9d6a1454cb65",
     "locked": false,
     "schema_version": 3,
     "solution": true,
     "task": false
    }
   },
   "outputs": [],
   "source": [
    "# Task 6\n",
    "\n",
    "### BEGIN SOLUTION\n",
    "\n",
    "# View the statistics\n",
    "adult.describe()\n",
    "\n",
    "# Answer:\n",
    "# The values of 99999 for capital-gain\n",
    "# and 99 for hours-per-week are code for missing values\n",
    "\n",
    "mean_age = 38.58\n",
    "std_hpw = 12.35\n",
    "\n",
    "### END SOLUTION"
   ]
  },
  {
   "cell_type": "markdown",
   "metadata": {
    "id": "tanljwt8LZi1"
   },
   "source": [
    "**Task 6 Test**"
   ]
  },
  {
   "cell_type": "code",
   "execution_count": 38,
   "metadata": {
    "id": "vrQt_sUYLZi1",
    "nbgrader": {
     "grade": true,
     "grade_id": "cell-26b21a59dd35ddb1",
     "locked": true,
     "points": 1,
     "schema_version": 3,
     "solution": false,
     "task": false
    }
   },
   "outputs": [],
   "source": [
    "# Task 6 - Test\n",
    "\n",
    "# Hidden tests - you will see the results when you submit to Canvas\n",
    "### BEGIN HIDDEN TESTS\n",
    "assert round(mean_age) == 39, 'Check the results you read from your describe table'\n",
    "assert round(std_hpw) == 12, 'Check the results you read from your describe table'\n",
    "### END HIDDEN TESTS"
   ]
  },
  {
   "cell_type": "markdown",
   "metadata": {
    "id": "n_rcgbaqcleU"
   },
   "source": [
    "**Task 7** - Summary statistics for non-numeric columns\n",
    "\n",
    "We have some columns in this dataset that are non-numeric or object columns. This is usually a string object. Let's use the `describe()` function again but include the argument `exclude='number'` to exclude the numeric columns.\n",
    "\n",
    "Using the results of `describe(exclude='number')`, complete the following two tasks:\n",
    "\n",
    "* Find the number of unique `education` values and assign it to `unique_edu` (your value should be an integer)\n",
    "* Find the number of times the most frequent observation for `income` occurs and assign it to `freq_income` (your value should be an integer) *(Note: this is not the income value itself, just how many times it occurs)*"
   ]
  },
  {
   "cell_type": "code",
   "execution_count": 39,
   "metadata": {
    "id": "7r5vSLiFLZi1",
    "nbgrader": {
     "grade": false,
     "grade_id": "cell-11915c7656419ee3",
     "locked": false,
     "schema_version": 3,
     "solution": true,
     "task": false
    }
   },
   "outputs": [],
   "source": [
    "# Task 7\n",
    "\n",
    "### BEGIN SOLUTION\n",
    "\n",
    "# View the non-numeric statistics\n",
    "adult.describe(exclude='number')\n",
    "\n",
    "unique_edu = 16\n",
    "freq_income = 24720\n",
    "\n",
    "### END SOLUTION"
   ]
  },
  {
   "cell_type": "code",
   "execution_count": 40,
   "metadata": {
    "id": "3jpwj3OXLZi1",
    "outputId": "52d62863-0afe-4b24-b176-f9f07e71f23c"
   },
   "outputs": [
    {
     "data": {
      "text/plain": [
       " <=50K    24720\n",
       " >50K      7841\n",
       "Name: income, dtype: int64"
      ]
     },
     "execution_count": 40,
     "metadata": {},
     "output_type": "execute_result"
    }
   ],
   "source": [
    "adult.describe(exclude='number')\n",
    "adult['income'].value_counts()"
   ]
  },
  {
   "cell_type": "markdown",
   "metadata": {
    "id": "NjgWfu1LLZi2"
   },
   "source": [
    "**Task 7 Test**"
   ]
  },
  {
   "cell_type": "code",
   "execution_count": 41,
   "metadata": {
    "id": "-NIhI-yzLZi2",
    "nbgrader": {
     "grade": true,
     "grade_id": "cell-00ef7970684097e5",
     "locked": true,
     "points": 1,
     "schema_version": 3,
     "solution": false,
     "task": false
    }
   },
   "outputs": [],
   "source": [
    "# Task 7 - Test\n",
    "\n",
    "# Hidden tests - you will see the results when you submit to Canvas\n",
    "### BEGIN HIDDEN TESTS\n",
    "assert round(unique_edu) == 16, 'Check the results from your describe table'\n",
    "assert round(freq_income) == 24720, 'Check the results from your describe table'\n",
    "### END HIDDEN TESTS"
   ]
  },
  {
   "cell_type": "markdown",
   "metadata": {
    "id": "o_E_rvFUdP8O"
   },
   "source": [
    "**Task 8** - Finding value counts\n",
    "\n",
    "Let's look more specifically at the `relationship` column and perform a count of the number of observations for each category. We can see how many categories we have by using the `.unique()` method on the column. Then, we can use `.value_counts()` to count the number of observations in each category.\n",
    "\n",
    "* View the unique values in the `relationship` column with `.unique()`\n",
    "* View the number of observations for each value with `.value_counts()`\n",
    "* Find the counts for `Other-relative` and assign to the variable `adult_other_rel`"
   ]
  },
  {
   "cell_type": "code",
   "execution_count": 42,
   "metadata": {
    "id": "dpz5fUqJdTE_",
    "nbgrader": {
     "grade": false,
     "grade_id": "cell-2498319aac6c6e38",
     "locked": false,
     "schema_version": 3,
     "solution": true,
     "task": false
    }
   },
   "outputs": [],
   "source": [
    "# Task 8\n",
    "\n",
    "### BEGIN SOLUTION\n",
    "\n",
    "# View the non-numeric statistics\n",
    "adult['relationship'].unique()\n",
    "adult['relationship'].value_counts()\n",
    "\n",
    "adult_other_rel = 981\n",
    "\n",
    "### END SOLUTION"
   ]
  },
  {
   "cell_type": "markdown",
   "metadata": {
    "id": "UIJlTYx3LZi2"
   },
   "source": [
    "**Task 8 Test**"
   ]
  },
  {
   "cell_type": "code",
   "execution_count": 43,
   "metadata": {
    "id": "QLrTwSEGLZi2",
    "nbgrader": {
     "grade": true,
     "grade_id": "cell-ee00a51b05f5cc8e",
     "locked": true,
     "points": 1,
     "schema_version": 3,
     "solution": false,
     "task": false
    }
   },
   "outputs": [],
   "source": [
    "# Task 8 - Test\n",
    "\n",
    "# Hidden tests - you will see the results when you submit to Canvas\n",
    "### BEGIN HIDDEN TESTS\n",
    "assert round(adult_other_rel) == 981, 'Did you select the correct observation?'\n",
    "### END HIDDEN TESTS"
   ]
  },
  {
   "cell_type": "markdown",
   "metadata": {
    "id": "ZEs60bkrdnsU"
   },
   "source": [
    "**Task 9** - Create a Series\n",
    "\n",
    "A column of a DataFrame is a pandas Series. Using the `adult` DataFrame, create a Series from the `occupation` column.\n",
    "\n",
    "* Create a Series from the `occupation` column and name it `adult_occup`"
   ]
  },
  {
   "cell_type": "code",
   "execution_count": 44,
   "metadata": {
    "id": "ydjVZQA3du6l",
    "nbgrader": {
     "grade": false,
     "grade_id": "cell-d1bb196ab00c4bd3",
     "locked": false,
     "schema_version": 3,
     "solution": true,
     "task": false
    }
   },
   "outputs": [],
   "source": [
    "# Task 9\n",
    "\n",
    "### BEGIN SOLUTION\n",
    "adult_occup = adult['occupation']\n",
    "### END SOLUTION"
   ]
  },
  {
   "cell_type": "markdown",
   "metadata": {
    "id": "ecKFLU6tLZi3"
   },
   "source": [
    "**Task 9 Test**"
   ]
  },
  {
   "cell_type": "code",
   "execution_count": 45,
   "metadata": {
    "id": "2RVMSI26LZi3",
    "nbgrader": {
     "grade": true,
     "grade_id": "cell-e43fc22d03a71561",
     "locked": true,
     "points": 1,
     "schema_version": 3,
     "solution": false,
     "task": false
    }
   },
   "outputs": [],
   "source": [
    "# Task 9 - Test\n",
    "\n",
    "# These tests are for you to check your work before submitting\n",
    "assert isinstance(adult_occup, pd.Series), 'Have you created the correct Series?'\n",
    "\n",
    "# Hidden tests - you will see the results when you submit to Canvas\n",
    "### BEGIN HIDDEN TESTS\n",
    "assert adult_occup.name == 'occupation', 'Double check that you have the correct column.'\n",
    "### END HIDDEN TESTS"
   ]
  },
  {
   "cell_type": "markdown",
   "metadata": {
    "id": "FnOWk3zMOuqz"
   },
   "source": [
    "**Task 10** - Practice with a new dataset\n",
    "\n",
    "Let's use some of what we've learned so far to load in a new dataset and answer some questions. For now, we're going to read in the data from the website where it is stored. But, at the end of this project, you can review the instructions for uploading a file to Google Colab,\n",
    "\n",
    "* Use [this link (right click to copy)](https://raw.githubusercontent.com/LambdaSchool/data-science-practice-datasets/main/unit_1/NASCAR/nascard.csv) as the URL and assign it to the variable `data_url2`\n",
    "* Read in the data into a DataFrame called `nascar`; the CSV already includes a header\n",
    "\n",
    "More information about this data can be found [here](https://github.com/LambdaSchool/data-science-practice-datasets/tree/main/unit_1/NASCAR)."
   ]
  },
  {
   "cell_type": "code",
   "execution_count": 46,
   "metadata": {
    "id": "LHYkMOD3LZi3",
    "nbgrader": {
     "grade": false,
     "grade_id": "cell-04b98cad3de4cab4",
     "locked": false,
     "schema_version": 3,
     "solution": true,
     "task": false
    }
   },
   "outputs": [],
   "source": [
    "# Task 10\n",
    "\n",
    "### BEGIN SOLUTION\n",
    "data_url2 = 'https://raw.githubusercontent.com/LambdaSchool/data-science-practice-datasets/main/unit_1/NASCAR/nascard.csv'\n",
    "nascar = pd.read_csv(data_url2)\n",
    "### END SOLUTION"
   ]
  },
  {
   "cell_type": "markdown",
   "metadata": {
    "id": "ZI65V5uELZi3"
   },
   "source": [
    "**Task 10 Test**"
   ]
  },
  {
   "cell_type": "code",
   "execution_count": 47,
   "metadata": {
    "id": "idkyA3OtLZi3",
    "nbgrader": {
     "grade": true,
     "grade_id": "cell-8b7550f8a360559b",
     "locked": true,
     "points": 1,
     "schema_version": 3,
     "solution": false,
     "task": false
    }
   },
   "outputs": [],
   "source": [
    "# Task 10 - Test\n",
    "\n",
    "# These tests are for you to check your work before submitting\n",
    "assert isinstance(nascar, pd.DataFrame), 'Have you created the nascar DataFrame?'\n",
    "\n",
    "# Hidden tests - you will see the results when you submit to Canvas\n",
    "### BEGIN HIDDEN TESTS\n",
    "assert nascar.shape == (34884, 10), 'Double check your DataFrame size.'\n",
    "### END HIDDEN TESTS"
   ]
  },
  {
   "cell_type": "markdown",
   "metadata": {
    "id": "UzIUMnonLZi4"
   },
   "source": [
    "**Task 11** - Look at the header\n",
    "\n",
    "Now, let's look at the data. We'll use the `.head()` method to view the first rows of the DataFrame\n",
    "\n",
    "* Assign the output from `.head()` to a DataFrame called `nascar_head` (use the default values of the method)"
   ]
  },
  {
   "cell_type": "code",
   "execution_count": 48,
   "metadata": {
    "id": "femoM2VsLZi4",
    "nbgrader": {
     "grade": false,
     "grade_id": "cell-01b2cebe2cab129a",
     "locked": false,
     "schema_version": 3,
     "solution": true,
     "task": false
    }
   },
   "outputs": [],
   "source": [
    "# Task 11\n",
    "\n",
    "### BEGIN SOLUTION\n",
    "nascar_head = nascar.head()\n",
    "### END SOLUTION"
   ]
  },
  {
   "cell_type": "markdown",
   "metadata": {
    "id": "H18GnJtALZi4"
   },
   "source": [
    "**Task 11 Test**"
   ]
  },
  {
   "cell_type": "code",
   "execution_count": 49,
   "metadata": {
    "id": "rcV84fUALZi4",
    "nbgrader": {
     "grade": true,
     "grade_id": "cell-4abee0d24322116e",
     "locked": true,
     "points": 1,
     "schema_version": 3,
     "solution": false,
     "task": false
    }
   },
   "outputs": [],
   "source": [
    "# Task 11 - Test\n",
    "\n",
    "# These tests are for you to check your work before submitting\n",
    "assert isinstance(nascar_head, pd.DataFrame), 'Have you created the nascar_head DataFrame?'\n",
    "\n",
    "# Hidden tests - you will see the results when you submit to Canvas\n",
    "### BEGIN HIDDEN TESTS\n",
    "assert nascar_head.shape == (5, 10), 'Double check your DataFrame size; you should have five rows.'\n",
    "### END HIDDEN TESTS"
   ]
  },
  {
   "cell_type": "markdown",
   "metadata": {
    "id": "2U8Jb7BjgVFF"
   },
   "source": [
    "**Task 12** - Dataset description and variable types\n",
    "\n",
    "Using your `nascar` DataFrame, answer the following questions. Remember - you can use methods like `describe()` and `info()` to print out information about the variable types in your DataFrame. Remember, you can use `describe(exclude='number')` to view non-numeric variable types.\n",
    "\n",
    "You can view more information about the data [here](http://users.stat.ufl.edu/~winner/data/nascard.txt).\n",
    "\n",
    "Select the letter indicating which one of the following statements about the features in `nascar` is incorrect?  For example, if statement B is incorrect, you'll type your answer in the code block as `answer = 'B'`\n",
    "\n",
    "\n",
    "A: Each entry for `driver` is a text string\n",
    "\n",
    "B: `carMake` is an identifer variable\n",
    "\n",
    "\n",
    "C: `carsRace` is a quantitative, discrete variable\n",
    "\n",
    "\n",
    "D: `prize` is a quantitative, continuous variable"
   ]
  },
  {
   "cell_type": "code",
   "execution_count": 50,
   "metadata": {
    "nbgrader": {
     "grade": false,
     "grade_id": "cell-4452c94a7f85fa40",
     "locked": false,
     "schema_version": 3,
     "solution": true,
     "task": false
    }
   },
   "outputs": [],
   "source": [
    "# Task 12\n",
    "\n",
    "# Ignore the YOUR CODE HERE for this cell\n",
    "### BEGIN SOLUTION\n",
    "answer = 'B'\n",
    "### END SOLUTION"
   ]
  },
  {
   "cell_type": "code",
   "execution_count": 51,
   "metadata": {
    "nbgrader": {
     "grade": true,
     "grade_id": "cell-2673e645b1df248f",
     "locked": true,
     "points": 1,
     "schema_version": 3,
     "solution": false,
     "task": false
    }
   },
   "outputs": [],
   "source": [
    "# Task 12 - Test\n",
    "\n",
    "# Hidden tests - you will see the results when you submit to Canvas\n",
    "### BEGIN HIDDEN TESTS\n",
    "assert answer == 'B', 'Keep exploring your data.'\n",
    "### END HIDDEN TESTS"
   ]
  },
  {
   "cell_type": "markdown",
   "metadata": {
    "id": "wxjsuRUOLZi4"
   },
   "source": [
    "**Extra Practice!!**\n",
    "\n",
    "Now we're going to practice loading a dataset that you have saved on your computer. Since we're working in a notebook on Google Colab, you'll need to upload your file to the notebook runtime in order to read in the data.\n",
    "\n",
    "* Use [this link](https://raw.githubusercontent.com/LambdaSchool/data-science-practice-datasets/main/unit_1/NASCAR/nascard.csv) to download your dataset as a csv file to your computer. \n",
    "* Upload to Google Colab one of two ways:\n",
    "    * using `from google.colab import files` then `uploaded = files.upload()`; read in the file with pd.read_csv(filename)\n",
    "    * using the file upload feature in the left side panel of the Colab notebook; read in the file with pd.read_csv(filename)\n",
    "\n",
    "More information about this data can be found [here](https://github.com/LambdaSchool/data-science-practice-datasets/tree/main/unit_1/NASCAR).\n",
    "\n",
    "**DELETE or COMMENT OUT your Colab code**"
   ]
  },
  {
   "cell_type": "code",
   "execution_count": 52,
   "metadata": {
    "id": "wE_RCi0AfTrz"
   },
   "outputs": [],
   "source": [
    "# Extra Practice\n",
    "\n",
    "## DELETE OR COMMENT OUT YOUR COLAB CODE BEFORE SUBMITTING THE NOTEBOOK"
   ]
  }
 ],
 "metadata": {
  "celltoolbar": "Create Assignment",
  "colab": {
   "collapsed_sections": [],
   "name": "LS_DS_111_EDA_Assignment_AG.ipynb",
   "provenance": []
  },
  "kernelspec": {
   "display_name": "Python 3",
   "language": "python",
   "name": "python3"
  },
  "language_info": {
   "codemirror_mode": {
    "name": "ipython",
    "version": 3
   },
   "file_extension": ".py",
   "mimetype": "text/x-python",
   "name": "python",
   "nbconvert_exporter": "python",
   "pygments_lexer": "ipython3",
   "version": "3.8.9"
  }
 },
 "nbformat": 4,
 "nbformat_minor": 1
}
